{
 "cells": [
  {
   "cell_type": "markdown",
   "id": "95ea8d03",
   "metadata": {},
   "source": [
    "# Project: Furuta Pendulum\n",
    "\n",
    "This notebook containts our report for the Furuta Pendulum Project - Group 003 - Flavio Proietti r0978464 & Giuseppe Galea Curmi r0966326"
   ]
  },
  {
   "cell_type": "code",
   "execution_count": 1,
   "id": "f69f981a",
   "metadata": {},
   "outputs": [],
   "source": [
    "# Load the autoreload extension to automatically reload modules when they are modified\n",
    "%load_ext autoreload\n",
    "\n",
    "# Set autoreload to reload all modules before executing code\n",
    "%autoreload 2"
   ]
  },
  {
   "cell_type": "markdown",
   "id": "d6c1aceb",
   "metadata": {},
   "source": [
    "## 1 Model-based Control\n",
    "## (a) Optimization-based Motion Planner for Swing-Up\n",
    "\n",
    "This section outlines the design and implementation of an optimization-based motion planner that can swing the pendulum from the downward position to the upright position."
   ]
  },
  {
   "cell_type": "code",
   "execution_count": 2,
   "id": "58e43d81",
   "metadata": {},
   "outputs": [],
   "source": [
    "import os\n",
    "import time\n",
    "import yaml\n",
    "import numpy as np\n",
    "import casadi as ca\n",
    "from rockit import *\n",
    "from matplotlib import pyplot as plt\n",
    "import pinocchio as pin\n",
    "import pinocchio.casadi as cpin\n",
    "from pinocchio.visualize import MeshcatVisualizer as PMV\n",
    "import meshcat\n",
    "import meshcat.transformations as tf\n",
    "import gymnasium as gym\n",
    "from src.envs.furuta_torque_env import FurutaPendulumTorqueEnv\n",
    "import torch\n",
    "from src.agents.ppo_continuous_action import Agent, make_env\n",
    "\n",
    "\n",
    "os.environ[\"KMP_DUPLICATE_LIB_OK\"] = \"TRUE\""
   ]
  },
  {
   "cell_type": "markdown",
   "id": "861b3292",
   "metadata": {},
   "source": [
    "After having imported all the required packages, the command **os.environ[\"KMP_DUPLICATE_LIB_OK\"] = \"TRUE\"** was inserted to solve some conflicts between the different packages. \n",
    "\n",
    "The following code has the role of importing the .yaml, the .urdf and the dynamics equations. These information are required to analyse the dynamic of the FURUTA PENDULUM in  the optimization problem."
   ]
  },
  {
   "cell_type": "code",
   "execution_count": 3,
   "id": "01b9d9a5",
   "metadata": {},
   "outputs": [],
   "source": [
    "with open('src/pendulum_model/pendulum_description/simulation_pendulum.yaml', 'r') as file:\n",
    "        config = yaml.safe_load(file)\n",
    "\n",
    "parameters_model = config[\"parameters_model\"]\n",
    "urdf_path = os.path.join(\"src/pendulum_model/pendulum_description\", config[\"urdf_filename\"])\n",
    "forward_dynamics_casadi_path = os.path.join(\"src/pendulum_model/pendulum_description\", config[\"forward_dynamics_casadi_filename\"])"
   ]
  },
  {
   "cell_type": "markdown",
   "id": "cbf34eef",
   "metadata": {},
   "source": [
    "### OCP Definition\n",
    "\n",
    "The optimal control problem (OCP) was then formulated with a **fixed time horizon** to ensure compatibility with the simulation environment. In preliminary tests, allowing the final time to be free led to time intervals that did not align with the fixed update rate of the simulation environment. This mismatch would have required interpolation of the control inputs to integrate with the reinforcement learning (RL) policy, introducing unnecessary complexity and potential inaccuracies.\n",
    "\n",
    "To maintain consistency with the environment’s update rate, the problem was discretized using the **Multiple Shooting** method with \\( N = 30 \\) control intervals and \\( M = 1 \\) integration step per interval with a fixed time duration of 0.3s derived from the previously executed free time problems. This configuration ensured a time step of \\( 0.01s \\), which matches the control frequency of the simulation environment.\n",
    "\n",
    "The integration method used within each interval was an explicit **Runge–Kutta** scheme (`rk`), which offers a good trade-off between computational efficiency and numerical accuracy for smooth, continuous dynamics. The choice of \\( M = 1 \\) allows for a minimal integration effort per interval while still respecting the short control timestep required by the simulation. This approach reduces solver overhead without compromising the fidelity of the integrated system dynamics.\n",
    "\n",
    "### Model constraints\n",
    "\n",
    "Initially, the code extracts the joint limitations from the `.yaml` file. These values are then used as constraints in the OCP, namely: `q_min`, `q_max`, `v_min`, `v_max`, `u_min`, and `u_max`.\n",
    "\n",
    "Subsequently, the initial and desired final states were defined, denoted as `q_start` and `q_goal`.\n",
    "\n",
    "The state and control variables of the OCP were then specified. The state consists of the angular positions and velocities of the two joints, while the control input corresponds to the torque applied at the first joint.\n",
    "\n",
    "\n",
    "### Additional Constraints\n",
    "\n",
    "Further constraints were imposed on the OCP to define boundary conditions and improve system behavior:\n",
    "\n",
    "- `ocp.subject_to(ocp.at_t0(x) == q_start)`  \n",
    "  → Constrains the initial state of the system to the specified starting position.\n",
    "\n",
    "- `ocp.subject_to(ocp.at_t0(v) == 0)`  \n",
    "  → Sets the initial velocity of the system to zero.\n",
    "\n",
    "- `ocp.subject_to(ocp.at_t0(u[0]) == 0)`  \n",
    "  → Ensures that the initial control input (torque) is zero.\n",
    "\n",
    "- `ocp.subject_to(ocp.at_tf(x) == q_goal)`  \n",
    "  → Constrains the final state to reach the desired goal configuration.\n",
    "\n",
    "- `ocp.subject_to(ocp.at_tf(v[1]) == 0)`  \n",
    "  → Forces the final velocity of the second joint (`theta₂`) to be zero, improving the stability of the final pendulum state and facilitating integration with the RL policy.\n",
    "\n",
    "\n",
    "\n",
    "### Dynamics Integration\n",
    "\n",
    "The system dynamics were incorporated using the pre-compiled CasADi function:\n",
    "\n",
    "`forward_dynamics_raw = ca.Function.load(forward_dynamics_casadi_path)`\n",
    "\n",
    "- `ocp.set_der(x, v)`  \n",
    "  → Specifies that the time derivative of the position state `x` corresponds to the velocity `v`.\n",
    "\n",
    "- `ocp.set_der(v, forward_dynamics_ca(x, v, u))`  \n",
    "  → Defines the time derivative of the velocity state `v` as the system's acceleration, computed via the dynamics function generated using **Pinocchio**.\n",
    "\n",
    "This setup ensures that the OCP accurately reflects the dynamics of the Furuta pendulum, enabling proper trajectory planning under physical constraints.\n",
    "\n",
    "\n",
    "\n",
    "### Cost Function\n",
    "\n",
    "The cost function was formulated as a **quadratic integral cost**, penalizing deviations of the second joint angle $\\theta_2$ from its desired target value $\\theta_2^{\\text{goal}}$:\n",
    "\n",
    "$$\n",
    "J = \\int_0^T 10 \\cdot (\\theta_2(t) - \\theta_2^{\\text{goal}})^2 \\, dt\n",
    "$$\n",
    "\n",
    "### Solver\n",
    "\n",
    "The problem was then solved using an `ipopt` solver, which is well-suited for nonlinear and non-convex optimization problems such as this one.\n",
    "\n",
    "\n",
    "### Convexity Considerations\n",
    "\n",
    "- **Cost function → Convex**\n",
    "  - The objective is defined as a quadratic cost as shown above.  \n",
    "\n",
    "  - This is convex because it penalizes the squared deviation from a target state, and squared terms are convex when the coefficient is positive.\n",
    "\n",
    "- **State and control bounds → Convex**\n",
    "  - Constraints such as `x ≥ q_min`, `x ≤ q_max`, and similar ones for `v` and `u` are linear inequalities.\n",
    "  - Linear inequality constraints define convex feasible sets.\n",
    "\n",
    "- **Initial and final conditions → Convex**\n",
    "  - Conditions like `x(0) = q_start`, `x(T) = q_goal`, `v(0) = 0`, and `v[1](T) = 0` are affine equalities.\n",
    "  - Equality constraints are convex if the expressions involved are affine.\n",
    "\n",
    "- **System dynamics →  Not convex**\n",
    "  - The dynamic model `v̇ = f(x, v, u)` is derived from the nonlinear equations of motion of the Furuta pendulum using Pinocchio.\n",
    "  - These dynamics are nonlinear and non-affine in the state and control variables.\n",
    "  - This violates the convexity condition that requires system dynamics to be affine.\n",
    "\n",
    "**Conclusion**: While the objective and constraints are convex in isolation, the presence of nonlinear dynamics makes the **overall optimal control problem non-convex**.\n"
   ]
  },
  {
   "cell_type": "code",
   "execution_count": 4,
   "id": "b5f6f8fb",
   "metadata": {},
   "outputs": [
    {
     "name": "stdout",
     "output_type": "stream",
     "text": [
      "\n",
      "******************************************************************************\n",
      "This program contains Ipopt, a library for large-scale nonlinear optimization.\n",
      " Ipopt is released as open source code under the Eclipse Public License (EPL).\n",
      "         For more information visit https://github.com/coin-or/Ipopt\n",
      "******************************************************************************\n",
      "\n",
      "Total number of variables............................:      184\n",
      "                     variables with only lower bounds:        0\n",
      "                variables with lower and upper bounds:        0\n",
      "                     variables with only upper bounds:        0\n",
      "Total number of equality constraints.................:      128\n",
      "Total number of inequality constraints...............:      372\n",
      "        inequality constraints with only lower bounds:      186\n",
      "   inequality constraints with lower and upper bounds:        0\n",
      "        inequality constraints with only upper bounds:      186\n",
      "\n",
      "\n",
      "Number of Iterations....: 194\n",
      "\n",
      "                                   (scaled)                 (unscaled)\n",
      "Objective...............:   1.0945305302933740e+01    1.0945305302933740e+01\n",
      "Dual infeasibility......:   1.5477549797360268e-13    1.5477549797360268e-13\n",
      "Constraint violation....:   2.2049029269055609e-13    2.2049029269055609e-13\n",
      "Variable bound violation:   0.0000000000000000e+00    0.0000000000000000e+00\n",
      "Complementarity.........:   2.5060155548346488e-09    2.5060155548346488e-09\n",
      "Overall NLP error.......:   2.5060155548346488e-09    2.5060155548346488e-09\n",
      "\n",
      "\n",
      "Number of objective function evaluations             = 574\n",
      "Number of objective gradient evaluations             = 158\n",
      "Number of equality constraint evaluations            = 574\n",
      "Number of inequality constraint evaluations          = 574\n",
      "Number of equality constraint Jacobian evaluations   = 201\n",
      "Number of inequality constraint Jacobian evaluations = 201\n",
      "Number of Lagrangian Hessian evaluations             = 194\n",
      "Total seconds in IPOPT                               = 1.737\n",
      "\n",
      "EXIT: Optimal Solution Found.\n",
      "      solver  :   t_proc      (avg)   t_wall      (avg)    n_eval\n",
      "       nlp_f  |  19.00ms ( 33.10us)  19.25ms ( 33.53us)       574\n",
      "       nlp_g  |  38.00ms ( 66.20us)  38.37ms ( 66.84us)       574\n",
      "  nlp_grad_f  |  20.00ms (125.79us)  16.88ms (106.14us)       159\n",
      "  nlp_hess_l  | 564.00ms (  3.00ms) 568.62ms (  3.02ms)       188\n",
      "   nlp_jac_g  | 110.00ms (544.55us) 105.24ms (521.00us)       202\n",
      "       total  |   1.74 s (  1.74 s)   1.74 s (  1.74 s)         1\n",
      "Time to solve:  0.3\n",
      "Torque command:  [[ 3.82959253e-31  2.85069537e-25]\n",
      " [-2.00000009e-01  2.85069537e-25]\n",
      " [-2.00000009e-01  2.85069537e-25]\n",
      " [-2.00000009e-01  2.85069537e-25]\n",
      " [-2.00000009e-01  2.85069537e-25]\n",
      " [-2.00000009e-01  2.85069537e-25]\n",
      " [-2.00000008e-01  2.85069537e-25]\n",
      " [-2.00000005e-01  2.85069537e-25]\n",
      " [-1.51345545e-01  2.85069537e-25]\n",
      " [ 2.00000004e-01  2.85069537e-25]\n",
      " [ 2.00000006e-01  2.85069537e-25]\n",
      " [ 2.00000007e-01  2.85069537e-25]\n",
      " [ 2.00000007e-01  2.85069537e-25]\n",
      " [ 2.00000007e-01  2.85069537e-25]\n",
      " [ 2.00000007e-01  2.85069537e-25]\n",
      " [ 2.00000006e-01  2.85069537e-25]\n",
      " [ 2.00000006e-01  2.85069537e-25]\n",
      " [ 2.00000005e-01  2.85069537e-25]\n",
      " [ 2.00000004e-01  2.85069537e-25]\n",
      " [ 2.00000003e-01  2.85069537e-25]\n",
      " [ 2.00000001e-01  2.85069537e-25]\n",
      " [ 1.99999997e-01  2.85069537e-25]\n",
      " [ 1.99999987e-01  2.85069537e-25]\n",
      " [ 1.99999955e-01  2.85069537e-25]\n",
      " [ 1.04126840e-01  2.85069537e-25]\n",
      " [-1.99999904e-01  2.85069537e-25]\n",
      " [-1.99999919e-01  2.85069537e-25]\n",
      " [-1.99999890e-01  2.85069537e-25]\n",
      " [-1.99999776e-01  2.85069537e-25]\n",
      " [-1.72648078e-01 -4.33894876e-25]\n",
      " [-1.72648078e-01 -4.33894876e-25]]\n",
      "OCP dt: 0.01\n",
      "Normalized torques range: -1.0000000471034824 1.0000000347829467\n"
     ]
    }
   ],
   "source": [
    "T_fixed = 0.3\n",
    "ocp = Ocp(T=T_fixed)\n",
    "N = 30\n",
    "M = 1\n",
    "\n",
    "q_min = np.array([-parameters_model[\"max_angle_joint0\"], -parameters_model[\"max_angle_joint1\"]])\n",
    "q_max = np.array([ parameters_model[\"max_angle_joint0\"],  parameters_model[\"max_angle_joint1\"]])\n",
    "\n",
    "v_min = np.array([-parameters_model[\"max_velocity_joint0\"], -0.5*parameters_model[\"max_velocity_joint1\"]])\n",
    "v_max = -v_min\n",
    "\n",
    "u_min = np.array([-parameters_model[\"max_torque_joint0\"], 0.0])  # only joint 0 actuated\n",
    "u_max = -u_min\n",
    "\n",
    "q_start = np.array([0,0])\n",
    "q_goal = np.array([0.0, np.deg2rad(180)])\n",
    "\n",
    "\n",
    "x = ocp.state(len(q_min))\n",
    "v = ocp.state(len(q_min))\n",
    "u = ocp.control(len(q_min))\n",
    "\n",
    "ocp.subject_to(ocp.at_t0(x) == q_start)\n",
    "ocp.subject_to(ocp.at_t0(v) == 0)\n",
    "ocp.subject_to(ocp.at_t0(u[0]) == 0)\n",
    "ocp.subject_to(ocp.at_tf(x) == q_goal)\n",
    "ocp.subject_to(ocp.at_tf(v[1]) == 0)\n",
    "\n",
    "# Dummy forward dynamics function for demonstration\n",
    "forward_dynamics_raw = ca.Function.load(forward_dynamics_casadi_path)\n",
    "\n",
    "def forward_dynamics_ca(q, dq, tau):\n",
    "    return forward_dynamics_raw(q, dq, ca.vertcat(tau[0], 0))  # Only joint 0 is actuated\n",
    "\n",
    "\n",
    "ocp.set_der(x, v)\n",
    "ocp.set_der(v, forward_dynamics_ca(x, v, u))\n",
    "\n",
    "ocp.method(MultipleShooting(N=N, M=M, intg='rk'))\n",
    "\n",
    "ocp.subject_to(x >= q_min)\n",
    "ocp.subject_to(x <= q_max)\n",
    "\n",
    "ocp.subject_to(v >= v_min)\n",
    "ocp.subject_to(v <= v_max)\n",
    "\n",
    "ocp.subject_to(u >= u_min)\n",
    "ocp.subject_to(u <= u_max)\n",
    "\n",
    "theta2 = x[1]\n",
    "dtheta2 = v[1]\n",
    "theta2_goal = q_goal[1]\n",
    "\n",
    "# Penalize deviation from upright \n",
    "ocp.add_objective(ocp.integral(10 * (theta2 - theta2_goal)**2))\n",
    "\n",
    "\n",
    "options = {\"expand\": True, 'print_time': True,\n",
    "                'ipopt.print_level': 4}        \n",
    "ocp.solver('ipopt', options)\n",
    "\n",
    "# Store variables if needed\n",
    "ocp_x = x\n",
    "ocp_v = v\n",
    "ocp_u = u\n",
    "\n",
    "sol = ocp.solve()\n",
    "final_time = sol.value(ocp.T)\n",
    "print(\"Time to solve: \", final_time)\n",
    "\n",
    "time_grid, torque_command = sol.sample(ocp_u, grid='control')\n",
    "print(\"Torque command: \", torque_command)\n",
    "\n",
    "for t in range(torque_command.shape[0]):\n",
    "    torque_actual = torque_command[t, 0]\n",
    "    u_norm = torque_actual / parameters_model[\"max_torque_joint0\"]\n",
    "    # obs, reward, done, _, _ = env.step([u_norm])\n",
    "\n",
    "actual_dt = final_time / (N * M)\n",
    "print(\"OCP dt:\", actual_dt)\n",
    "\n",
    "u_norm = torque_command[:, 0] / parameters_model[\"max_torque_joint0\"]\n",
    "print(\"Normalized torques range:\", np.min(u_norm), np.max(u_norm))"
   ]
  },
  {
   "cell_type": "markdown",
   "id": "b494d769",
   "metadata": {},
   "source": [
    "### Solver Performance Summary\n",
    "\n",
    "Solving the problem yields the following performance statistics:\n",
    "\n",
    "\n",
    "\n",
    "| solver       | t\\_proc (avg)        | t\\_wall (avg)        | n\\_eval |\n",
    "| ------------ | -------------------- | -------------------- | ------- |\n",
    "| nlp\\_f       | 11.00 ms (17.41 µs)  | 8.35 ms (13.22 µs)   | 632     |\n",
    "| nlp\\_g       | 13.00 ms (20.57 µs)  | 17.58 ms (27.82 µs)  | 632     |\n",
    "| nlp\\_grad\\_f | 9.00 ms (52.94 µs)   | 6.91 ms (40.62 µs)   | 170     |\n",
    "| nlp\\_hess\\_l | 300.00 ms (1.55 ms)  | 300.35 ms (1.56 ms)  | 193     |\n",
    "| nlp\\_jac\\_g  | 35.00 ms (169.08 µs) | 35.34 ms (170.73 µs) | 207     |\n",
    "| total        | 919.00 ms            | 919.13 ms            | 1       |\n",
    "\n",
    "\n",
    "\n",
    "This output clearly shows that the **most computationally expensive step** in solving the optimal control problem is the evaluation of the **Hessian of the Lagrangian** (`nlp_hess_l`), both in terms of processing time and wall time.\n"
   ]
  },
  {
   "cell_type": "code",
   "execution_count": 5,
   "id": "104c745a",
   "metadata": {},
   "outputs": [
    {
     "name": "stdout",
     "output_type": "stream",
     "text": [
      "Time steps: (31,)\n",
      "Torque command shape: (31, 2)\n",
      "First few torques (actual): [ 3.82959253e-31 -2.00000009e-01 -2.00000009e-01 -2.00000009e-01\n",
      " -2.00000009e-01]\n",
      "First few torques (normalized): [ 1.91479627e-30 -1.00000005e+00 -1.00000005e+00 -1.00000005e+00\n",
      " -1.00000004e+00]\n"
     ]
    },
    {
     "data": {
      "image/png": "[encoded data removed]",
      "text/plain": [
       "<Figure size 1000x400 with 1 Axes>"
      ]
     },
     "metadata": {},
     "output_type": "display_data"
    },
    {
     "data": {
      "image/png": "[encoded data removed]",
      "text/plain": [
       "<Figure size 1000x400 with 1 Axes>"
      ]
     },
     "metadata": {},
     "output_type": "display_data"
    },
    {
     "data": {
      "image/png": "[encoded data removed]",
      "text/plain": [
       "<Figure size 1000x400 with 1 Axes>"
      ]
     },
     "metadata": {},
     "output_type": "display_data"
    }
   ],
   "source": [
    "print(\"Time steps:\", time_grid.shape)\n",
    "print(\"Torque command shape:\", torque_command.shape)\n",
    "print(\"First few torques (actual):\", torque_command[:5, 0])\n",
    "print(\"First few torques (normalized):\", torque_command[:5, 0] / parameters_model[\"max_torque_joint0\"])\n",
    "\n",
    "# === Sample the optimized solution ===\n",
    "time_vec, q_traj = sol.sample(x, grid='control')\n",
    "_, dq_traj = sol.sample(v, grid='control')\n",
    "_, u_traj = sol.sample(u, grid='control')\n",
    "\n",
    "# === Plot joint positions ===\n",
    "plt.figure(figsize=(10, 4))\n",
    "plt.plot(time_vec, q_traj[:, 0], label=\"Base Joint (q0)\")\n",
    "plt.plot(time_vec, q_traj[:, 1], label=\"Pendulum Joint (q1)\")\n",
    "plt.title(\"Optimized Joint Angles\")\n",
    "plt.xlabel(\"Time [s]\")\n",
    "plt.ylabel(\"Angle [rad]\")\n",
    "plt.legend()\n",
    "plt.grid(True)\n",
    "plt.tight_layout()\n",
    "plt.show()\n",
    "\n",
    "# === Plot joint velocities ===\n",
    "plt.figure(figsize=(10, 4))\n",
    "plt.plot(time_vec, dq_traj[:, 0], label=\"Base Velocity (dq0)\")\n",
    "plt.plot(time_vec, dq_traj[:, 1], label=\"Pendulum Velocity (dq1)\")\n",
    "plt.title(\"Optimized Joint Velocities\")\n",
    "plt.xlabel(\"Time [s]\")\n",
    "plt.ylabel(\"Angular Velocity [rad/s]\")\n",
    "plt.legend()\n",
    "plt.grid(True)\n",
    "plt.tight_layout()\n",
    "plt.show()\n",
    "\n",
    "# === Plot control torque ===\n",
    "plt.figure(figsize=(10, 4))\n",
    "plt.plot(time_vec, u_traj[:, 0], label=\"Torque on Joint 0 (u0)\")\n",
    "plt.title(\"Optimized Control Input\")\n",
    "plt.xlabel(\"Time [s]\")\n",
    "plt.ylabel(\"Torque [Nm]\")\n",
    "plt.legend()\n",
    "plt.grid(True)\n",
    "plt.tight_layout()\n",
    "plt.show()"
   ]
  },
  {
   "cell_type": "markdown",
   "id": "7dbc864e",
   "metadata": {},
   "source": [
    "From the plots, it is evident that the OCP successfully achieves the desired objective, reaching a final angle `θ₂` of 180° (the 180° here is the angle of the pendulum relative to its initial position pointing downards which is the 0° point). The velocity constraint on `θ̇₂` is also correctly enforced, as the velocity is zero at the final time instant.\n",
    "\n",
    "However, it can be observed that the velocity of the base joint is not zero at the end of the trajectory, indicating that the final state is not fully stable. When an additional constraint is imposed to enforce zero velocity on the base joint at the final time, the problem becomes infeasible, highlighting a trade-off between strict stability conditions and feasibility.\n",
    "\n"
   ]
  },
  {
   "cell_type": "markdown",
   "id": "625aaacb",
   "metadata": {},
   "source": [
    "## (b) Combining Motion Planner with provided RL policy\n",
    "In the next step we integrated the RL policy given to us to stabilise the pendulum at the end of the optimization problem and generate an environment to apply it. The environmetn to visualize on the browser is the one generated by the next code module."
   ]
  },
  {
   "cell_type": "code",
   "execution_count": 6,
   "id": "5f921028",
   "metadata": {},
   "outputs": [
    {
     "name": "stderr",
     "output_type": "stream",
     "text": [
      "c:\\Users\\beppe\\miniconda3\\envs\\furuta-rl\\Lib\\site-packages\\gymnasium\\envs\\registration.py:636: UserWarning: \u001b[33mWARN: Overriding environment FurutaPendulumTorque-v0 already in registry.\u001b[0m\n",
      "  logger.warn(f\"Overriding environment {new_spec.id} already in registry.\")\n"
     ]
    },
    {
     "name": "stdout",
     "output_type": "stream",
     "text": [
      "model name: furuta_pendulum\n",
      "q: [0. 0.]\n",
      "T_pin:   R =\n",
      "           1            0            0\n",
      "           0           -1  1.22465e-16\n",
      "           0 -1.22465e-16           -1\n",
      "  p =    0.093525 1.57979e-17       0.055\n",
      "\n",
      "You can open the visualizer by visiting the following URL:\n",
      "http://127.0.0.1:7000/static/\n"
     ]
    }
   ],
   "source": [
    "gym.register(\n",
    "    id=\"FurutaPendulumTorque-v0\",\n",
    "    entry_point=FurutaPendulumTorqueEnv,\n",
    ")\n",
    "\n",
    "# Create an instance of the FurutaPendulumTorqueEnv environment\n",
    "env = gym.make(\"FurutaPendulumTorque-v0\",\n",
    "               urdf_model_path=urdf_path, forward_dynamics_casadi_path=forward_dynamics_casadi_path, parameters_model=parameters_model, render=True, swingup=True)\n",
    "\n",
    "# Click on the url that appears in the output to visualize the environment in a browser"
   ]
  },
  {
   "cell_type": "code",
   "execution_count": 7,
   "id": "caad53b6",
   "metadata": {},
   "outputs": [
    {
     "name": "stdout",
     "output_type": "stream",
     "text": [
      "model name: furuta_pendulum\n",
      "q: [0. 0.]\n",
      "T_pin:   R =\n",
      "           1            0            0\n",
      "           0           -1  1.22465e-16\n",
      "           0 -1.22465e-16           -1\n",
      "  p =    0.093525 1.57979e-17       0.055\n",
      "\n",
      "You can open the visualizer by visiting the following URL:\n",
      "http://127.0.0.1:7001/static/\n"
     ]
    },
    {
     "data": {
      "text/plain": [
       "Agent(\n",
       "  (critic): Sequential(\n",
       "    (0): Linear(in_features=7, out_features=64, bias=True)\n",
       "    (1): Tanh()\n",
       "    (2): Linear(in_features=64, out_features=64, bias=True)\n",
       "    (3): Tanh()\n",
       "    (4): Linear(in_features=64, out_features=1, bias=True)\n",
       "  )\n",
       "  (actor_mean): Sequential(\n",
       "    (0): Linear(in_features=7, out_features=64, bias=True)\n",
       "    (1): Tanh()\n",
       "    (2): Linear(in_features=64, out_features=64, bias=True)\n",
       "    (3): Tanh()\n",
       "    (4): Linear(in_features=64, out_features=1, bias=True)\n",
       "  )\n",
       ")"
      ]
     },
     "execution_count": 7,
     "metadata": {},
     "output_type": "execute_result"
    }
   ],
   "source": [
    "import torch\n",
    "from src.agents.ppo_continuous_action import Agent, make_env\n",
    "\n",
    "saved_model_path = 'data/furuta_pendulum_tensorboard/furutaTorque__ppo_continuous_action__42__1744890705/ppo_continuous_action.cleanrl_model' # no swingup\n",
    "\n",
    "# Set to False if task includes swingup\n",
    "swingup = True\n",
    "\n",
    "envs = gym.vector.SyncVectorEnv(\n",
    "        [make_env(urdf_path=urdf_path, \n",
    "                  parameters_model=parameters_model, \n",
    "                  forward_dynamics_casadi_path=forward_dynamics_casadi_path,\n",
    "                  render=True, swingup=swingup) for _ in range(1)]\n",
    "    )\n",
    "\n",
    "model = Agent(envs=envs)\n",
    "\n",
    "model.load_state_dict(torch.load(saved_model_path, map_location=\"cpu\"))\n",
    "model.eval()\n",
    "# do not use the link printed below, use the one printed above in the previous code module"
   ]
  },
  {
   "cell_type": "markdown",
   "id": "c145f905",
   "metadata": {},
   "source": [
    "We then combined the OCP solution with the RL policy. The following code is structured such that the RL policy takes control of the environment **immediately after** the control inputs generated by the OCP are exhausted. This setup allows the system to benefit from the optimal initialization provided by the OCP while leveraging the adaptability of the RL policy to complete the task or handle residual dynamics. The simulation is run for 20s (max_steps = 2000)."
   ]
  },
  {
   "cell_type": "code",
   "execution_count": 8,
   "id": "8b0eadc5",
   "metadata": {},
   "outputs": [
    {
     "name": "stdout",
     "output_type": "stream",
     "text": [
      "Switching to PPO agent at step 31\n",
      "PPO agent terminated episode.\n"
     ]
    }
   ],
   "source": [
    "theta2_vals = []\n",
    "time_steps = []\n",
    "\n",
    "# Set 20-second limit (2000 steps)\n",
    "max_steps = 2000\n",
    "\n",
    "# Step 1: Reset and start with motion planner\n",
    "obs, _ = env.reset()\n",
    "obs = torch.tensor(obs, dtype=torch.float32).unsqueeze(0)\n",
    "\n",
    "handover_step = -1\n",
    "for i in range(len(torque_command)):\n",
    "    if i >= max_steps:\n",
    "        print(\"Reached 20-second limit during OCP.\")\n",
    "        break\n",
    "\n",
    "    u_actual = torque_command[i, 0]\n",
    "    u_norm = u_actual / parameters_model[\"max_torque_joint0\"]\n",
    "    obs_np, reward, done, truncated, info = env.step([u_norm])\n",
    "    obs = torch.tensor(obs_np, dtype=torch.float32).unsqueeze(0)\n",
    "    \n",
    "    theta2_vals.append(np.arctan2(obs_np[3], obs_np[2]))\n",
    "    time_steps.append(i)\n",
    "\n",
    "    if truncated or handover_step > len(torque_command) - 1:\n",
    "        print(f\"OCP terminated at step {i}\")\n",
    "        break\n",
    "\n",
    "    handover_step = i\n",
    "\n",
    "print(f\"Switching to PPO agent at step {handover_step + 1}\")\n",
    "step = handover_step + 1\n",
    "\n",
    "while step < max_steps:\n",
    "    with torch.no_grad():\n",
    "        action, _, _, _ = model.get_action_and_value(obs, deterministic=True)\n",
    "\n",
    "    obs_np, reward, done, truncated, info = env.step(action.cpu().numpy()[0])\n",
    "    obs = torch.tensor(obs_np, dtype=torch.float32).unsqueeze(0)\n",
    "\n",
    "    theta2_vals.append(np.arctan2(obs_np[3], obs_np[2]))\n",
    "    time_steps.append(step)\n",
    "\n",
    "    if done or truncated:\n",
    "        print(\"PPO agent terminated episode.\")\n",
    "        break\n",
    "\n",
    "    step += 1\n",
    "\n",
    "if step >= max_steps:\n",
    "    print(\"Reached 20-second limit during PPO.\")\n"
   ]
  },
  {
   "cell_type": "markdown",
   "id": "fe2399b7",
   "metadata": {},
   "source": [
    "### Explanation of the Plot\n",
    "\n",
    "The plot illustrates the evolution of the pendulum joint angle (\\(\\theta_2\\)) over time during the swing-up task.\n",
    "\n",
    "- In this representation, an angle of **$+\\frac{\\pi}{2}$ radians (or +90°)** corresponds to the **pendulum hanging vertically downward**, which is the **initial position**.\n",
    "- An angle of **$-\\frac{\\pi}{2}$ radians (or -90°)** corresponds to the **upright position**, which is the **target configuration**.\n",
    "\n",
    "As shown in the plot:\n",
    "- The pendulum **rapidly swings up** from the downward to the upright position.\n",
    "- After reaching the upright state, the controller effectively **damps out the residual oscillations**, leading to stable balancing over time.\n",
    "- The small fluctuations visible around the steady state are minor and reflect natural settling behavior under a smooth control strategy.\n",
    "\n",
    "This demonstrates that the controller, combining OCP trajectory planning with the provided stabilising RL policy, achieves both **fast convergence** and **stability**.\n"
   ]
  },
  {
   "cell_type": "code",
   "execution_count": 14,
   "id": "2d53c2e6",
   "metadata": {},
   "outputs": [
    {
     "data": {
      "image/png": "[encoded data removed]",
      "text/plain": [
       "<Figure size 1000x400 with 1 Axes>"
      ]
     },
     "metadata": {},
     "output_type": "display_data"
    }
   ],
   "source": [
    "time_array = [i * 0.01 for i in time_steps]\n",
    "\n",
    "plt.figure(figsize=(10, 4))\n",
    "plt.plot(time_array, theta2_vals, label='theta2 [rad]')\n",
    "plt.xlabel('Time [s]')\n",
    "plt.ylabel('Pendulum Angle (theta2) [rad]')\n",
    "plt.title('Theta2 evolution from hanging to upright (pi/2 rad = down, -pi/2 = up)')\n",
    "plt.grid(True)\n",
    "plt.legend()\n",
    "plt.tight_layout()\n",
    "plt.show()"
   ]
  },
  {
   "cell_type": "markdown",
   "id": "f90f1e7d",
   "metadata": {},
   "source": [
    "## 2 Reinforcement Learning for Swing-Up & Stabilising Upright  \n",
    "## (a) Reinforcement Learning without Domain Randomisation  \n",
    "### Choice of Learning Algorithm\n",
    "\n",
    "To train a policy capable of swinging up and stabilising the Furuta pendulum in the upright position, we considered several reinforcement learning algorithms including DDPG, SAC, and PPO. Among these, **Proximal Policy Optimization (PPO)** was selected due to its robustness, simplicity, and strong performance in continuous control problems along with already having a baseline to start from provided (for the no swingup case). PPO's clipped objective helps maintain training stability while allowing effective exploration and learning.\n",
    "\n",
    "An additional advantage of PPO is that it is well suited for **domain randomisation**, which is required in a later phase of this project. PPO naturally supports training across multiple parallel environments with varying parameters, making it compatible with setups that involve changing physical properties or injecting noise to improve policy robustness.\n",
    "\n",
    "We based our implementation on the provided PPO algorithm from CleanRL and adapted it to match the **required swing-up task** defined in the project. The following modifications were made in the `ppo_swingup.py` file:\n",
    "\n",
    "- **Environment**: The environment was updated to `FurutaPendulumSwingupEnv`, which includes the full swing-up dynamics and the necessary reward structure.\n",
    "- **Swing-up flag**: Set to `True` to ensure the pendulum starts from the downward position and learns to swing up.\n",
    "- **Reward clipping**: The reward was clipped to the range `[-100, 100]` to reflect the scale of the new reward function used in the swing-up environment.\n",
    "- **Entropy coefficient**: A small entropy regularisation term (`ent_coef = 0.01`) was introduced to encourage exploration. This is important in tasks like swing-up where the agent must discover effective sequences of actions without immediate reward.\n",
    "- **Training timesteps**: We experimented with different values for `total_timesteps` and selected `8M` for the main experiments. The effect of this choice will be discussed in the results section.\n",
    "\n",
    "### Considerations for Noise and Disturbance Handling\n",
    "\n",
    "Even without domain randomisation, PPO includes several features that help the policy cope with noise and small disturbances in the system:\n",
    "\n",
    "- **Stochastic action sampling** using a Gaussian distribution, which trains the agent to act under uncertainty\n",
    "- **Advantage estimation with generalized advantage estimation (GAE)**, which helps filter noise in value predictions\n",
    "- **Reward normalization and clipping**, which reduce sensitivity to outlier signals\n",
    "- **Entropy regularisation and gradient clipping**, which improve training stability and reduce overfitting to specific dynamics\n",
    "\n",
    "These aspects make PPO a good foundation for both the initial learning phase and for future experiments involving disturbance robustness through domain randomisation. "
   ]
  },
  {
   "cell_type": "markdown",
   "id": "cbf456ee",
   "metadata": {},
   "source": [
    "### Setting up the Swing Up Environment\n",
    "\n",
    "To support learning the full swing-up and stabilisation task, we built upon the original `furuta_torque_env.py` and implemented a modified environment in `furuta_torque_env_swingup.py`. This updated environment introduces several changes necessary for the pendulum to learn how to swing up from the downward position and maintain balance at the top.\n",
    "\n",
    "#### Key Modifications\n",
    "\n",
    "- **Reward Function**:  \n",
    "  The original environment focused solely on stabilisation, rewarding the pendulum for staying upright. To support the swing-up task, we implemented a new reward function that guides the agent through both phases: swinging up and stabilising.\n",
    "\n",
    "  The reward is computed as a weighted sum of squared errors between observed and desired values:\n",
    "  \n",
    "$$\n",
    "r = \\sum_i -w_i (o_i - d_i)^2 - \\alpha \\cdot a^2 + \\text{bonus}\n",
    "$$\n",
    "Where:\n",
    "- $w_{i}$ are observation weights  \n",
    "- $o_{i}$ and $d_{i}$ are the current and desired values of sin/cos of joint angles, angular velocities, and base position  \n",
    "- $\\alpha$ is a torque penalty weight to discourage excessive actuation\n",
    "\n",
    "A **bonus** of **+0.5** is given when the pendulum is upright and still, defined by:\n",
    "\n",
    "$|\\sin(\\theta_2)| < 0.1$  \n",
    "$|\\cos(\\theta_2) + 1| < 0.1$  \n",
    "$|d\\theta_1| < 0.1 \\quad \\text{and} \\quad |d\\theta_2| < 0.1$\n",
    "\n",
    "  Importantly, we observed that without penalising base rotation and angular velocities, the agent would often swing the pendulum upwards successfully but fail to stabilise it. The pendulum would overshoot due to excessive momentum, making the upright position unstable. By introducing these penalties, the reward function becomes **less sparse**, guiding the agent not just toward the goal but also toward smoother, stabilising behaviours.\n",
    "\n",
    "- **Time Limit**:  \n",
    "  Increased from `2000` to `5000` steps to give the agent sufficient time to complete both the swing-up and stabilisation phases. Shorter episodes risked termination before the agent could complete the full behaviour sequence.\n",
    "\n",
    "- **Termination Penalty**:  \n",
    "  Increased from `-40` to `-100` to be consistent with the higher reward scale introduced in the new reward function. This also aligns with the reward clipping used in the modified PPO implementation (`[-100, 100]`), ensuring that premature terminations are proportionally penalised.\n",
    "\n",
    "- **Swing-up Flag**:  \n",
    "  The `swingup` flag is now set to `True` by default, ensuring episodes begin with the pendulum in the downward position, as required by the task.\n",
    "\n",
    "These changes make the environment suitable for learning the required swing-up and stabilisation behaviour while ensuring the reward signal is informative enough to guide learning. The full implementation is provided in the `furuta_torque_env_swingup.py` file.\n"
   ]
  },
  {
   "cell_type": "markdown",
   "id": "28bb042d",
   "metadata": {},
   "source": [
    "### Training the Model\n",
    "\n",
    "To train the model, we simply run the ppo_swingup.py in the anaconda terminal with the furuta-rl conda environment active:\n",
    "\n",
    "`python ppo_swingup.py`"
   ]
  },
  {
   "cell_type": "markdown",
   "id": "c49d0845",
   "metadata": {},
   "source": [
    "### Analyzing Training Metrics\n",
    "\n",
    "Several key metrics were monitored during training to verify that the reward function and PPO hyperparameters were effectively guiding the policy towards solving the swing-up task. These metrics provided insight into the agent's learning progress, stability, and whether the final policy could be expected to succeed without manual evaluation.\n",
    "\n",
    "**Episodic Return** reflects the total reward collected per episode and is the most direct indicator of policy improvement. We expect a clear upward trend, starting from negative values near -100 (due to early failures) and increasing as the agent learns to swing and balance the pendulum. This pattern is visible in all runs, confirming that the reward signal provided sufficient feedback and the policy improved over time.\n",
    "\n",
    "**Episodic Length** measures how long the agent survives before triggering termination. Initially, lengths are short due to constraint violations, but they gradually increase and stabilize at the maximum episode length once the policy learns to swing and maintain balance. Occasional drops later in training, seen across all runs, indicate failed episodes due to velocity or angle limits being breached.\n",
    "\n",
    "**Entropy** quantifies how random the agent's actions are. High entropy is desirable at the start to promote exploration, but we expect a steady decline as the policy becomes more confident. This trend is evident, with entropy dropping early and flattening at a low value, indicating successful convergence with reduced exploration.\n",
    "\n",
    "**Learning Rate** was linearly annealed over time. The plots show the expected gradual decrease for each run, which helps stabilize training as the policy nears convergence.\n",
    "\n",
    "**Approximate KL Divergence** tracks how much the policy changes between updates. PPO relies on keeping this value moderate. In all runs, the KL divergence fluctuates within a reasonable range, confirming that updates were constrained effectively and policy changes remained stable.\n",
    "\n",
    "**Clip Fraction** reports the proportion of policy updates where the PPO clipping mechanism was active. A healthy non-zero value during most of training is expected; if it drops to zero too early, learning may stagnate. In our case, clip fraction remains active across the entire training period and only drops near the end, suggesting effective constraint enforcement without early saturation.\n",
    "\n",
    "**Explained Variance** reflects how well the value function predicts expected returns. It should improve toward 1.0 during training. Our plots show this trend clearly, with all runs reaching high explained variance, though longer runs (8M, 10M) show more fluctuations - likely due to increased diversity in successful episode outcomes.\n",
    "\n",
    "Together, these trends confirm that the reward function provided meaningful gradients, the PPO algorithm maintained stable updates, and the learned policy successfully converged in each of the tested training durations. The corresponding training plots can be visualised by running the next module in the notebook.\n"
   ]
  },
  {
   "cell_type": "code",
   "execution_count": 16,
   "id": "4a3bdf56",
   "metadata": {},
   "outputs": [
    {
     "name": "stdout",
     "output_type": "stream",
     "text": [
      "The tensorboard extension is already loaded. To reload it, use:\n",
      "  %reload_ext tensorboard\n"
     ]
    },
    {
     "data": {
      "text/html": [
       "\n",
       "      <iframe id=\"tensorboard-frame-fe898eec0a8134f8\" width=\"100%\" height=\"800\" frameborder=\"0\">\n",
       "      </iframe>\n",
       "      <script>\n",
       "        (function() {\n",
       "          const frame = document.getElementById(\"tensorboard-frame-fe898eec0a8134f8\");\n",
       "          const url = new URL(\"/\", window.location);\n",
       "          const port = 6006;\n",
       "          if (port) {\n",
       "            url.port = port;\n",
       "          }\n",
       "          frame.src = url;\n",
       "        })();\n",
       "      </script>\n",
       "    "
      ],
      "text/plain": [
       "<IPython.core.display.HTML object>"
      ]
     },
     "metadata": {},
     "output_type": "display_data"
    }
   ],
   "source": [
    "%load_ext tensorboard\n",
    "\n",
    "%reload_ext tensorboard\n",
    "\n",
    "%tensorboard --logdir data/furuta_pendulum_swingup_tensorboard"
   ]
  },
  {
   "cell_type": "markdown",
   "id": "0ab365b4",
   "metadata": {},
   "source": [
    "## Testing the Learned Policy\n",
    "### Load the pendulum Configuration\n",
    "\n",
    "Below code loads the provided Furuta Pendulum configuration without the additional unactuated link"
   ]
  },
  {
   "cell_type": "code",
   "execution_count": 17,
   "id": "83289bfc",
   "metadata": {},
   "outputs": [],
   "source": [
    "import yaml \n",
    "import os\n",
    "\n",
    "with open('src/pendulum_model/pendulum_description/simulation_pendulum.yaml', 'r') as file:\n",
    "        config = yaml.safe_load(file)\n",
    "\n",
    "parameters_model = config[\"parameters_model\"]\n",
    "urdf_path = os.path.join(\"src/pendulum_model/pendulum_description\", config[\"urdf_filename\"])\n",
    "forward_dynamics_casadi_path = os.path.join(\"src/pendulum_model/pendulum_description\", config[\"forward_dynamics_casadi_filename\"])"
   ]
  },
  {
   "cell_type": "markdown",
   "id": "03073b09",
   "metadata": {},
   "source": [
    "### Create the Environment\n",
    "\n",
    "Creates the environment used for the case when a policy learned by reinforcement learning is used to swing up the pendulum and stabilise it in the upright position. The pendulum starts from the downwards position (swingup = True)"
   ]
  },
  {
   "cell_type": "code",
   "execution_count": 18,
   "id": "bc7eacc6",
   "metadata": {},
   "outputs": [],
   "source": [
    "import gymnasium as gym\n",
    "from src.envs.furuta_torque_env_swingup import FurutaPendulumSwingupEnv\n",
    "\n",
    "gym.register(\n",
    "    id=\"FurutaPendulumSwingup-v0\",\n",
    "    entry_point=FurutaPendulumSwingupEnv,\n",
    ")\n"
   ]
  },
  {
   "cell_type": "markdown",
   "id": "263ffe10",
   "metadata": {},
   "source": [
    "### Load Model & Test it\n",
    "\n",
    "The following module loads one of the trained models for evaluation. Three models were trained using different values of `total_timesteps` to investigate the trade-off between training duration and policy performance. As expected, increasing the total timesteps generally led to faster and more stable swing-up behavior, but at the cost of longer training time.\n",
    "\n",
    "The model trained with 8 million timesteps provided the best balance between training efficiency and task performance, achieving rapid swing-up and reliable stabilization. The 3 million-step model required more time to swing up and typically needed two attempts to stabilize. In contrast, the 10 million-step model showed only marginal improvement over the 8 million-step version, suggesting diminishing returns with longer training.\n",
    "\n",
    "To test a trained model, first load it by running the module below. Then run the next module to evaluate it. To visualise the result, open the simulation link printed by the below module.\n"
   ]
  },
  {
   "cell_type": "code",
   "execution_count": 19,
   "id": "6cad8b25",
   "metadata": {},
   "outputs": [
    {
     "name": "stderr",
     "output_type": "stream",
     "text": [
      "c:\\Users\\beppe\\miniconda3\\envs\\furuta-rl\\Lib\\site-packages\\gymnasium\\envs\\registration.py:636: UserWarning: \u001b[33mWARN: Overriding environment FurutaPendulumSwingup-v0 already in registry.\u001b[0m\n",
      "  logger.warn(f\"Overriding environment {new_spec.id} already in registry.\")\n"
     ]
    },
    {
     "name": "stdout",
     "output_type": "stream",
     "text": [
      "model name: furuta_pendulum\n",
      "q: [0. 0.]\n",
      "T_pin:   R =\n",
      "           1            0            0\n",
      "           0           -1  1.22465e-16\n",
      "           0 -1.22465e-16           -1\n",
      "  p =    0.093525 1.57979e-17       0.055\n",
      "\n",
      "You can open the visualizer by visiting the following URL:\n",
      "http://127.0.0.1:7003/static/\n"
     ]
    },
    {
     "data": {
      "text/plain": [
       "Agent(\n",
       "  (critic): Sequential(\n",
       "    (0): Linear(in_features=7, out_features=64, bias=True)\n",
       "    (1): Tanh()\n",
       "    (2): Linear(in_features=64, out_features=64, bias=True)\n",
       "    (3): Tanh()\n",
       "    (4): Linear(in_features=64, out_features=1, bias=True)\n",
       "  )\n",
       "  (actor_mean): Sequential(\n",
       "    (0): Linear(in_features=7, out_features=64, bias=True)\n",
       "    (1): Tanh()\n",
       "    (2): Linear(in_features=64, out_features=64, bias=True)\n",
       "    (3): Tanh()\n",
       "    (4): Linear(in_features=64, out_features=1, bias=True)\n",
       "  )\n",
       ")"
      ]
     },
     "execution_count": 19,
     "metadata": {},
     "output_type": "execute_result"
    }
   ],
   "source": [
    "import torch\n",
    "from src.agents.ppo_swingup import Agent, make_env\n",
    "\n",
    "# saved_model_path = 'data/furuta_pendulum_swingup_tensorboard/furutaTorqueSwingup__ppo_swingup__42__1749284215/ppo_swingup.cleanrl_model' # 3 million total timesteps which makes the pendulum take longer to swing up with multiple back and forth motions before swinging up and then stabilising also slowly as it first falls back down and then stabilises\n",
    "saved_model_path = 'data/furuta_pendulum_swingup_tensorboard/furutaTorqueSwingup__ppo_swingup__42__1747479218/ppo_swingup.cleanrl_model' # 8 million total timesteps which makes the pendulum swing up and stabilise faster\n",
    "# saved_model_path = 'data/furuta_pendulum_swingup_tensorboard/furutaTorqueSwingup__ppo_swingup__42__1749286130/ppo_swingup.cleanrl_model' # 10 million total timesteps, faster to stabilise than 8 million\n",
    "\n",
    "# Set to True as task includes swingup\n",
    "swingup = True\n",
    "\n",
    "envs = gym.vector.SyncVectorEnv(\n",
    "        [make_env(urdf_path=urdf_path, \n",
    "                  parameters_model=parameters_model, \n",
    "                  forward_dynamics_casadi_path=forward_dynamics_casadi_path,\n",
    "                  render=True, swingup=swingup) for _ in range(1)]\n",
    "    )\n",
    "\n",
    "model = Agent(envs=envs)\n",
    "\n",
    "model.load_state_dict(torch.load(saved_model_path, map_location=\"cpu\"))\n",
    "model.eval()\n",
    "# Open the visualization link printed in the terminal"
   ]
  },
  {
   "cell_type": "code",
   "execution_count": 20,
   "id": "cb7126ab",
   "metadata": {},
   "outputs": [],
   "source": [
    "theta2_vals = []\n",
    "step_counter = 0\n",
    "\n",
    "observation, info = envs.reset()\n",
    "time.sleep(2)  # Time to open visualization\n",
    "terminated = False\n",
    "truncated = False\n",
    "\n",
    "while not terminated and not truncated and step_counter < 500:\n",
    "    action, _, _, _ = model.get_action_and_value(torch.Tensor(observation), deterministic=True)\n",
    "    action = action.cpu().detach().numpy()\n",
    "    observation, reward, terminated, truncated, info = envs.step(action)\n",
    "\n",
    "    theta2 = np.arctan2(observation[0][3], observation[0][2])  # Adjust if observation format differs\n",
    "    theta2_vals.append(theta2)\n",
    "    step_counter += 1\n",
    "\n",
    "envs.close()\n"
   ]
  },
  {
   "cell_type": "code",
   "execution_count": 21,
   "id": "c8348f3b",
   "metadata": {},
   "outputs": [
    {
     "data": {
      "image/png": "[encoded data removed]",
      "text/plain": [
       "<Figure size 1000x400 with 1 Axes>"
      ]
     },
     "metadata": {},
     "output_type": "display_data"
    }
   ],
   "source": [
    "import matplotlib.pyplot as plt\n",
    "\n",
    "time_array = [i * 0.01 for i in range(len(theta2_vals))]\n",
    "\n",
    "plt.figure(figsize=(10, 4))\n",
    "plt.plot(time_array, theta2_vals, label='theta2 [rad]')\n",
    "plt.xlabel('Time [s]')\n",
    "plt.ylabel('Pendulum Angle (theta2) [rad]')\n",
    "plt.title('Theta2 evolution during trained model rollout')\n",
    "plt.grid(True)\n",
    "plt.legend()\n",
    "plt.tight_layout()\n",
    "plt.show()\n"
   ]
  },
  {
   "cell_type": "markdown",
   "id": "a7077cc2",
   "metadata": {},
   "source": [
    "### Testing with Disturbances\n",
    "\n",
    "To evaluate the robustness of the PPO-trained policy, we tested it in a modified environment that includes observation noise, torque noise, and external disturbances. These additions were implemented in the `furuta_torque_env_swingup_noise_disturb.py` and `ppo_swingup_noise_disturb.py` files.\n",
    "\n",
    "It is important to note that the same policies described above are used here; they were originally trained without domain randomization, noise, or disturbances, learning purely in a clean simulation environment.\n",
    "\n",
    "The goal of this testing phase is to assess how well the trained policy generalizes under more realistic and imperfect conditions. Specifically, we introduced the following perturbations:\n",
    "\n",
    "- **Torque noise (`torque_noise_std=0.03`)**: Gaussian noise is added to the applied control signal to simulate actuator inconsistencies. A value of `0.03` corresponds to approximately ±3% variation relative to the maximum torque.\n",
    "\n",
    "- **Observation noise (`obs_noise_std=0.03`)**: Gaussian noise is added to the observed joint angles and velocities to reflect realistic sensor inaccuracies. The ±3% range represents typical noise levels expected in embedded sensing systems.\n",
    "\n",
    "- **External disturbances**: Sudden torque impulses are introduced at specific time steps `[100, 1000, 1500, 2000]`, with an amplitude of `0.1`, representing 10% of the system’s maximum torque. These simulate unexpected external forces such as bumps, cable tensions, or environmental interactions. The specific time steps for applying the disturbance were chosen to apply a disturbance during the swing up phase (at 1s), then at 3 instances during the stable phase (at 10, 15, and 20s).\n",
    "\n",
    "By running the model in this perturbed environment, we can evaluate its baseline robustness and observe how well it handles noise and recovers from disturbances, despite not being exposed to such effects during training.\n"
   ]
  },
  {
   "cell_type": "code",
   "execution_count": 22,
   "id": "9be263df",
   "metadata": {},
   "outputs": [
    {
     "name": "stderr",
     "output_type": "stream",
     "text": [
      "c:\\Users\\beppe\\miniconda3\\envs\\furuta-rl\\Lib\\site-packages\\gymnasium\\envs\\registration.py:636: UserWarning: \u001b[33mWARN: Overriding environment FurutaPendulumSwingup-v0 already in registry.\u001b[0m\n",
      "  logger.warn(f\"Overriding environment {new_spec.id} already in registry.\")\n"
     ]
    }
   ],
   "source": [
    "import gymnasium as gym\n",
    "from src.envs.furuta_torque_env_swingup_noise_disturb import FurutaPendulumSwingupEnv\n",
    "\n",
    "gym.register(\n",
    "    id=\"FurutaPendulumSwingup-v0\",\n",
    "    entry_point=FurutaPendulumSwingupEnv,\n",
    ")"
   ]
  },
  {
   "cell_type": "code",
   "execution_count": 23,
   "id": "f4d8f054",
   "metadata": {},
   "outputs": [
    {
     "name": "stdout",
     "output_type": "stream",
     "text": [
      "model name: furuta_pendulum\n",
      "q: [0. 0.]\n",
      "T_pin:   R =\n",
      "           1            0            0\n",
      "           0           -1  1.22465e-16\n",
      "           0 -1.22465e-16           -1\n",
      "  p =    0.093525 1.57979e-17       0.055\n",
      "\n",
      "You can open the visualizer by visiting the following URL:\n",
      "http://127.0.0.1:7004/static/\n"
     ]
    },
    {
     "data": {
      "text/plain": [
       "Agent(\n",
       "  (critic): Sequential(\n",
       "    (0): Linear(in_features=7, out_features=64, bias=True)\n",
       "    (1): Tanh()\n",
       "    (2): Linear(in_features=64, out_features=64, bias=True)\n",
       "    (3): Tanh()\n",
       "    (4): Linear(in_features=64, out_features=1, bias=True)\n",
       "  )\n",
       "  (actor_mean): Sequential(\n",
       "    (0): Linear(in_features=7, out_features=64, bias=True)\n",
       "    (1): Tanh()\n",
       "    (2): Linear(in_features=64, out_features=64, bias=True)\n",
       "    (3): Tanh()\n",
       "    (4): Linear(in_features=64, out_features=1, bias=True)\n",
       "  )\n",
       ")"
      ]
     },
     "execution_count": 23,
     "metadata": {},
     "output_type": "execute_result"
    }
   ],
   "source": [
    "import torch\n",
    "import gymnasium as gym\n",
    "from src.agents.ppo_swingup_noise_disturb import Agent, make_env\n",
    "\n",
    "# Load the correct model (e.g. trained with 8M timesteps)\n",
    "# saved_model_path = 'data/furuta_pendulum_swingup_tensorboard/furutaTorqueSwingup__ppo_swingup__42__1749284215/ppo_swingup.cleanrl_model' # 3 million total timesteps which makes the pendulum take longer to swing up with multiple back and forth motions before swinging up and then stabilising also slowly as it first falls back down and then stabilises\n",
    "saved_model_path = 'data/furuta_pendulum_swingup_tensorboard/furutaTorqueSwingup__ppo_swingup__42__1747479218/ppo_swingup.cleanrl_model' # 8 million total timesteps which makes the pendulum swing up and stabilise faster\n",
    "# saved_model_path = 'data/furuta_pendulum_swingup_tensorboard/furutaTorqueSwingup__ppo_swingup__42__1749286130/ppo_swingup.cleanrl_model' # 10 million total timesteps, faster to stabilise than 8 million\n",
    "\n",
    "# Set task type\n",
    "swingup = True\n",
    "\n",
    "# Create environment with same noise/disturbance config used during training\n",
    "envs = gym.vector.SyncVectorEnv([\n",
    "    make_env(\n",
    "        urdf_path=urdf_path,\n",
    "        parameters_model=parameters_model,\n",
    "        forward_dynamics_casadi_path=forward_dynamics_casadi_path,\n",
    "        render=True,\n",
    "        swingup=swingup,\n",
    "        apply_noise=True,\n",
    "        torque_noise_std=0.03,\n",
    "        obs_noise_std=0.03,\n",
    "        apply_disturbance=True,\n",
    "        disturbance_steps=[100, 1000, 1500, 2000],\n",
    "        disturbance_amplitude=0.1 # disturbance of 10% of max torque\n",
    "    )\n",
    "])\n",
    "\n",
    "# Load trained agent\n",
    "model = Agent(envs=envs)\n",
    "model.load_state_dict(torch.load(saved_model_path, map_location=\"cpu\"))\n",
    "model.eval()\n",
    "# Open the visualization link printed in the terminal"
   ]
  },
  {
   "cell_type": "code",
   "execution_count": 24,
   "id": "098cdc99",
   "metadata": {},
   "outputs": [
    {
     "name": "stdout",
     "output_type": "stream",
     "text": [
      "Initial Observation: [[0. 1. 0. 1. 0. 0. 0.]]\n"
     ]
    },
    {
     "name": "stderr",
     "output_type": "stream",
     "text": [
      "c:\\Users\\beppe\\miniconda3\\envs\\furuta-rl\\Lib\\site-packages\\gymnasium\\utils\\passive_env_checker.py:158: UserWarning: \u001b[33mWARN: The obs returned by the `step()` method is not within the observation space.\u001b[0m\n",
      "  logger.warn(f\"{pre} is not within the observation space.\")\n"
     ]
    },
    {
     "name": "stdout",
     "output_type": "stream",
     "text": [
      "Step 50, theta2: 0.230, reward: [-0.06320388]\n",
      "Step 100, theta2: -3.086, reward: [-0.03391975]\n",
      "[DEBUG] Disturbance applied at step 100: +0.1\n",
      "Step 150, theta2: -2.376, reward: [-0.01120442]\n",
      "Step 200, theta2: -2.823, reward: [-0.02788433]\n",
      "Step 250, theta2: -1.620, reward: [0.79626272]\n",
      "Step 300, theta2: -1.535, reward: [0.13128805]\n",
      "Step 350, theta2: -1.534, reward: [0.07321374]\n",
      "Step 400, theta2: -1.580, reward: [0.05893616]\n",
      "Step 450, theta2: -1.440, reward: [-1.136364e-05]\n",
      "Step 500, theta2: -1.598, reward: [-6.27781943e-06]\n",
      "Step 550, theta2: -1.626, reward: [0.04301526]\n",
      "Step 600, theta2: -1.564, reward: [0.04167693]\n",
      "Step 650, theta2: -1.573, reward: [0.04062698]\n",
      "Step 700, theta2: -1.503, reward: [0.03930312]\n",
      "Step 750, theta2: 1.527, reward: [-0.0015499]\n",
      "Step 800, theta2: -1.490, reward: [-8.7875643e-06]\n",
      "Step 850, theta2: -1.520, reward: [-5.62808518e-06]\n",
      "Step 900, theta2: -1.514, reward: [-5.04122899e-06]\n",
      "Step 950, theta2: -1.576, reward: [-2.43356105e-06]\n",
      "Step 1000, theta2: -1.453, reward: [-1.00203067e-05]\n",
      "[DEBUG] Disturbance applied at step 1000: +0.1\n",
      "Step 1050, theta2: -1.601, reward: [0.04459907]\n",
      "Step 1100, theta2: -1.616, reward: [-7.93314384e-06]\n",
      "Step 1150, theta2: -1.523, reward: [0.0448941]\n",
      "Step 1200, theta2: -1.556, reward: [-8.81015654e-06]\n",
      "Step 1250, theta2: -1.557, reward: [0.04522597]\n",
      "Step 1300, theta2: -1.526, reward: [0.04500984]\n",
      "Step 1350, theta2: -1.593, reward: [0.04467147]\n",
      "Step 1400, theta2: 0.577, reward: [-0.00144423]\n",
      "Step 1450, theta2: 1.983, reward: [-0.00182841]\n",
      "Step 1500, theta2: 2.016, reward: [-0.00172419]\n",
      "[DEBUG] Disturbance applied at step 1500: +0.1\n",
      "Step 1550, theta2: -1.281, reward: [-4.58222992e-05]\n",
      "Step 1600, theta2: -1.739, reward: [-1.7923101e-05]\n",
      "Step 1650, theta2: -1.643, reward: [-5.73619312e-06]\n",
      "Step 1700, theta2: -1.688, reward: [-8.79772563e-06]\n",
      "Step 1750, theta2: -1.618, reward: [-6.67461588e-06]\n",
      "Step 1800, theta2: -1.538, reward: [0.04698685]\n",
      "Step 1850, theta2: -1.500, reward: [-5.79464161e-06]\n",
      "Step 1900, theta2: -1.568, reward: [-3.98583679e-06]\n",
      "Step 1950, theta2: -1.601, reward: [0.04810908]\n",
      "Step 2000, theta2: -1.485, reward: [0.04839361]\n",
      "[DEBUG] Disturbance applied at step 2000: +0.1\n",
      "Step 2050, theta2: -1.597, reward: [0.04873195]\n",
      "Step 2100, theta2: -1.569, reward: [-5.47493447e-06]\n",
      "Step 2150, theta2: -1.456, reward: [-1.79267449e-05]\n",
      "Step 2200, theta2: -1.668, reward: [-8.29002694e-06]\n",
      "Step 2250, theta2: -1.548, reward: [0.04994611]\n",
      "Step 2300, theta2: -1.639, reward: [-7.72487617e-06]\n",
      "Step 2350, theta2: -1.668, reward: [-7.82526346e-06]\n",
      "Step 2400, theta2: -1.549, reward: [-7.13693469e-06]\n",
      "Step 2450, theta2: -1.568, reward: [-7.37071588e-06]\n",
      "Step 2500, theta2: -1.614, reward: [0.05167785]\n"
     ]
    }
   ],
   "source": [
    "import time\n",
    "import torch\n",
    "import numpy as np\n",
    "\n",
    "theta2_vals = []\n",
    "step_counter = 0\n",
    "\n",
    "observation, info = envs.reset()\n",
    "time.sleep(2)  # Give time to open the browser window\n",
    "\n",
    "terminated = [False]\n",
    "truncated = [False]\n",
    "\n",
    "print(f\"Initial Observation: {observation}\")\n",
    "\n",
    "while not terminated[0] and not truncated[0] and step_counter < 2500:\n",
    "    # Get action from trained model\n",
    "    action, _, _, _ = model.get_action_and_value(torch.tensor(observation, dtype=torch.float32), deterministic=True)\n",
    "    action = action.cpu().detach().numpy()\n",
    "\n",
    "    # Step the environment\n",
    "    observation, reward, terminated, truncated, info = envs.step(action)\n",
    "\n",
    "    # Extract and store theta2\n",
    "    theta2 = np.arctan2(observation[0][3], observation[0][2])  # Adjust indexing if needed\n",
    "    theta2_vals.append(theta2)\n",
    "    step_counter += 1\n",
    "\n",
    "    # Optional: print at intervals instead of every step\n",
    "    if step_counter % 50 == 0:\n",
    "        print(f\"Step {step_counter}, theta2: {theta2:.3f}, reward: {reward}\")\n",
    "\n",
    "envs.close()\n"
   ]
  },
  {
   "cell_type": "code",
   "execution_count": 25,
   "id": "830907d2",
   "metadata": {},
   "outputs": [
    {
     "data": {
      "image/png": "[encoded data removed]",
      "text/plain": [
       "<Figure size 1000x400 with 1 Axes>"
      ]
     },
     "metadata": {},
     "output_type": "display_data"
    }
   ],
   "source": [
    "import matplotlib.pyplot as plt\n",
    "\n",
    "time_array = [i * 0.01 for i in range(len(theta2_vals))]\n",
    "\n",
    "plt.figure(figsize=(10, 4))\n",
    "plt.plot(time_array, theta2_vals, label='theta2 [rad]')\n",
    "plt.xlabel('Time [s]')\n",
    "plt.ylabel('Pendulum Angle (theta2) [rad]')\n",
    "plt.title('Theta2 evolution (25-second rollout)')\n",
    "plt.grid(True)\n",
    "plt.legend()\n",
    "plt.tight_layout()\n",
    "plt.show()\n"
   ]
  },
  {
   "cell_type": "markdown",
   "id": "6cc1a2a7",
   "metadata": {},
   "source": [
    "### Limitations\n",
    "\n",
    "Although the PPO-trained policy successfully solves the swing-up and stabilization task in a clean simulation, it demonstrates clear limitations when tested under more challenging conditions not encountered during training. In particular, the policy was not trained with domain randomisation or perturbations, and thus exhibits reduced robustness to environmental uncertainties. When tested with observation and torque noise above a standard deviation of 0.03, the pendulum frequently fails to maintain the upright position after swing-up, often drifting away and requiring another swing-up attempt. Similarly, larger external disturbances (larger than 10% of max toruqe) applied during the stabilization phase disrupt the balance, causing the pendulum to fall and necessitating repeated recovery maneuvers. For cases with larger or frequent disturbances, the pendulum is also not able to recover and ends up swinging infinitely. These behaviors highlight the policy's sensitivity to unmodeled variability and the need for robustness-focused training techniques, such as domain randomisation, to better handle such real-world perturbations. Disturbances of 10% during the initial swingup also cause the pendulum not to immediately stabilise (as was seen in the case without disturbances), requiring a second swingup to stabilise.\n"
   ]
  },
  {
   "cell_type": "markdown",
   "id": "6fa36545",
   "metadata": {},
   "source": [
    "## (b) Reinforcement Learning with Domain Randomisation\n",
    "\n",
    "To improve robustness against modelling inaccuracies and system variability, we extend the baseline PPO swing-up agent by introducing domain randomisation. This technique exposes the agent during training to a range of physically plausible variations in the system's parameters, encouraging the policy to learn strategies that generalise across a broader range of dynamics.\n",
    "\n",
    "The policy training implementation is defined in the `ppo_swingup_random.py` script and uses a modified environment class, `FurutaPendulumSwingupRandomEnv`, implemented in `furuta_torque_env_swingup_domain_randomisation.py`. Unlike the baseline setup in `ppo_swingup.py` and `furuta_torque_env_swingup.py`, where the system parameters are fixed, the domain randomisation version samples new physical parameters at every environment reset. These sampled parameters directly affect the pendulum’s dynamics.\n",
    "\n",
    "A critical distinction in our approach is that we do not reuse the precomputed CasADi dynamics from the original environment, which would assume fixed parameters. Instead, we dynamically construct the system's forward dynamics at runtime using Pinocchio functions with the newly sampled parameters. This ensures that each environment rollout is consistent with the altered physics and avoids misleading the learning algorithm with inconsistent transitions.\n",
    "\n",
    "The randomisation is applied to key physical parameters, with each sampled from a bounded range relative to their nominal value. The selected randomisation ranges are as follows:\n",
    "\n",
    "- `m1`, `m2`: (0.8, 1.2)\n",
    "- `l1`, `l2`: (0.9, 1.1)\n",
    "- `L1`, `L2`: (0.8, 1.2)\n",
    "- `J1`, `J2`: (0.8, 1.2)\n",
    "- `b1`, `b2`: (0.7, 1.3)\n",
    "\n",
    "These ranges were chosen based on expected physical variability. The viscous friction coefficients (`b1`, `b2`) were given the widest bounds, as friction is typically the most uncertain and sensitive to environmental conditions (e.g. wear, lubrication, temperature). In contrast, the link lengths (`l1`, `l2`) were varied only slightly, reflecting the fact that geometric dimensions are known with relatively high precision and are less likely to differ significantly from their nominal values in a physical system.\n",
    "\n",
    "### Reward Function Consistency\n",
    "\n",
    "It is important to note that the reward function remains unchanged from the baseline environment. This design choice was intentional to ensure that improvements in robustness can be attributed to the agent’s exposure to variable dynamics, rather than differences in task specification. The reward function continues to incentivize pendulum swing-up, minimization of oscillation, and energy-efficient stabilization. By maintaining reward consistency, we facilitate fair comparison with agents trained without domain randomisation. The same reward function as the case without domain randomisation was observed to give good results when testing the learned policy.\n"
   ]
  },
  {
   "cell_type": "markdown",
   "id": "b9588e0e",
   "metadata": {},
   "source": [
    "### Training the Model\n",
    "\n",
    "To train the model, we simply run the ppo_swingup.py in the anaconda terminal with the furuta-rl conda environment active:\n",
    "\n",
    "`python ppo_swingup_random.py`\n",
    "\n",
    "### Visualise Training Metrics\n",
    "\n",
    "Running the following module shows the metrics which were monitored during the training. The same considerations as were done in part (a) apply here too."
   ]
  },
  {
   "cell_type": "code",
   "execution_count": 26,
   "id": "191d1bb3",
   "metadata": {},
   "outputs": [
    {
     "name": "stdout",
     "output_type": "stream",
     "text": [
      "The tensorboard extension is already loaded. To reload it, use:\n",
      "  %reload_ext tensorboard\n"
     ]
    },
    {
     "data": {
      "text/html": [
       "\n",
       "      <iframe id=\"tensorboard-frame-f0784b374f9838f7\" width=\"100%\" height=\"800\" frameborder=\"0\">\n",
       "      </iframe>\n",
       "      <script>\n",
       "        (function() {\n",
       "          const frame = document.getElementById(\"tensorboard-frame-f0784b374f9838f7\");\n",
       "          const url = new URL(\"/\", window.location);\n",
       "          const port = 6007;\n",
       "          if (port) {\n",
       "            url.port = port;\n",
       "          }\n",
       "          frame.src = url;\n",
       "        })();\n",
       "      </script>\n",
       "    "
      ],
      "text/plain": [
       "<IPython.core.display.HTML object>"
      ]
     },
     "metadata": {},
     "output_type": "display_data"
    }
   ],
   "source": [
    "%load_ext tensorboard\n",
    "\n",
    "%reload_ext tensorboard\n",
    "\n",
    "%tensorboard --logdir data/furuta_pendulum_swingup_random_tensorboard"
   ]
  },
  {
   "cell_type": "code",
   "execution_count": 27,
   "id": "59658446",
   "metadata": {},
   "outputs": [
    {
     "name": "stderr",
     "output_type": "stream",
     "text": [
      "c:\\Users\\beppe\\miniconda3\\envs\\furuta-rl\\Lib\\site-packages\\gymnasium\\envs\\registration.py:636: UserWarning: \u001b[33mWARN: Overriding environment FurutaPendulumSwingup-v0 already in registry.\u001b[0m\n",
      "  logger.warn(f\"Overriding environment {new_spec.id} already in registry.\")\n"
     ]
    }
   ],
   "source": [
    "import gymnasium as gym\n",
    "from src.envs.furuta_torque_env_swingup_noise_disturb import FurutaPendulumSwingupEnv\n",
    "\n",
    "gym.register(\n",
    "    id=\"FurutaPendulumSwingup-v0\",\n",
    "    entry_point=FurutaPendulumSwingupEnv,\n",
    ")\n"
   ]
  },
  {
   "cell_type": "code",
   "execution_count": 28,
   "id": "9270bad7",
   "metadata": {},
   "outputs": [
    {
     "name": "stdout",
     "output_type": "stream",
     "text": [
      "model name: furuta_pendulum\n",
      "q: [0. 0.]\n",
      "T_pin:   R =\n",
      "           1            0            0\n",
      "           0           -1  1.22465e-16\n",
      "           0 -1.22465e-16           -1\n",
      "  p =    0.093525 1.57979e-17       0.055\n",
      "\n",
      "You can open the visualizer by visiting the following URL:\n",
      "http://127.0.0.1:7005/static/\n"
     ]
    },
    {
     "data": {
      "text/plain": [
       "Agent(\n",
       "  (critic): Sequential(\n",
       "    (0): Linear(in_features=7, out_features=64, bias=True)\n",
       "    (1): Tanh()\n",
       "    (2): Linear(in_features=64, out_features=64, bias=True)\n",
       "    (3): Tanh()\n",
       "    (4): Linear(in_features=64, out_features=1, bias=True)\n",
       "  )\n",
       "  (actor_mean): Sequential(\n",
       "    (0): Linear(in_features=7, out_features=64, bias=True)\n",
       "    (1): Tanh()\n",
       "    (2): Linear(in_features=64, out_features=64, bias=True)\n",
       "    (3): Tanh()\n",
       "    (4): Linear(in_features=64, out_features=1, bias=True)\n",
       "  )\n",
       ")"
      ]
     },
     "execution_count": 28,
     "metadata": {},
     "output_type": "execute_result"
    }
   ],
   "source": [
    "import torch\n",
    "import gymnasium as gym\n",
    "from src.agents.ppo_swingup_noise_disturb import Agent, make_env\n",
    "\n",
    "# Load the model trained with domain randomisation\n",
    "# saved_model_path = 'data/furuta_pendulum_swingup_random_tensorboard/furutaTorqueSwingupRandom__ppo_swingup_random__42__1749311236/ppo_swingup_random.cleanrl_model' # 10 million total timesteps, more frequently able to keep the pendulum upright even with disturbances without pendulum losiing balance and needing to recover but frequently fails to recover if balance is lost\n",
    "saved_model_path = 'data/furuta_pendulum_swingup_random_tensorboard/furutaTorqueSwingupRandom__ppo_swingup_random__42__1749318668/ppo_swingup_random.cleanrl_model' # 8 million total timesteps, has instances of pendulum losing balance with larger disturbances but able to recover and stay upright\n",
    "\n",
    "# Set task type\n",
    "swingup = True\n",
    "\n",
    "# Create environment with same noise/disturbance config used during training\n",
    "envs = gym.vector.SyncVectorEnv([\n",
    "    make_env(\n",
    "        urdf_path=urdf_path,\n",
    "        parameters_model=parameters_model,\n",
    "        forward_dynamics_casadi_path=forward_dynamics_casadi_path,\n",
    "        render=True,\n",
    "        swingup=swingup,\n",
    "        apply_noise=True,\n",
    "        torque_noise_std=0.05,\n",
    "        obs_noise_std=0.05,\n",
    "        apply_disturbance=True,\n",
    "        # disturbance_steps=[100, 1000, 1500, 2000],\n",
    "        disturbance_steps=[100, 200, 500, 800, 1000, 1500, 2000], # even with more frequent disturbances, the agent is able to recover and keep the pendulum upright\n",
    "        disturbance_amplitude=0.3 # disturbance of 30% of max torque\n",
    "        # disturbance_amplitude=0.2 # disturbance of 20% of max torque\n",
    "    )\n",
    "])\n",
    "\n",
    "# Load trained agent\n",
    "model = Agent(envs=envs)\n",
    "model.load_state_dict(torch.load(saved_model_path, map_location=\"cpu\"))\n",
    "model.eval()\n",
    "# Open the visualization link printed in the terminal"
   ]
  },
  {
   "cell_type": "code",
   "execution_count": 29,
   "id": "9565bb56",
   "metadata": {},
   "outputs": [
    {
     "name": "stdout",
     "output_type": "stream",
     "text": [
      "Initial Observation: [[0. 1. 0. 1. 0. 0. 0.]]\n",
      "Step 50, theta2: -0.058, reward: [-0.05135314]\n",
      "Step 100, theta2: 2.548, reward: [-0.08727222]\n",
      "[DEBUG] Disturbance applied at step 100: +0.3\n",
      "Step 150, theta2: -1.639, reward: [0.36729484]\n",
      "Step 200, theta2: -1.646, reward: [-3.29230704e-05]\n",
      "[DEBUG] Disturbance applied at step 200: +0.3\n",
      "Step 250, theta2: -1.462, reward: [-4.64220006e-05]\n",
      "Step 300, theta2: -1.453, reward: [-2.58847893e-05]\n",
      "Step 350, theta2: -1.605, reward: [-2.54658484e-05]\n",
      "Step 400, theta2: -1.521, reward: [0.09353832]\n",
      "Step 450, theta2: -1.581, reward: [-1.94080963e-05]\n",
      "Step 500, theta2: -1.587, reward: [0.08690307]\n",
      "[DEBUG] Disturbance applied at step 500: +0.3\n",
      "Step 550, theta2: -1.623, reward: [-5.89378994e-06]\n",
      "Step 600, theta2: -1.015, reward: [-0.00027587]\n",
      "Step 650, theta2: -1.639, reward: [-1.6999109e-05]\n",
      "Step 700, theta2: -0.230, reward: [-0.00139224]\n",
      "Step 750, theta2: -1.729, reward: [-3.9368796e-05]\n",
      "Step 800, theta2: -1.326, reward: [-8.48898269e-05]\n",
      "[DEBUG] Disturbance applied at step 800: +0.3\n",
      "Step 850, theta2: 0.305, reward: [-0.00243421]\n",
      "Step 900, theta2: 1.531, reward: [-0.00424768]\n",
      "Step 950, theta2: 1.660, reward: [-0.00399063]\n",
      "Step 1000, theta2: 1.455, reward: [-0.00346357]\n",
      "[DEBUG] Disturbance applied at step 1000: +0.3\n",
      "Step 1050, theta2: 1.865, reward: [-0.00379305]\n",
      "Step 1100, theta2: 0.364, reward: [-0.00258281]\n",
      "Step 1150, theta2: 3.037, reward: [-0.00198775]\n",
      "Step 1200, theta2: -1.538, reward: [0.08897669]\n",
      "Step 1250, theta2: -1.523, reward: [0.09030652]\n",
      "Step 1300, theta2: -1.521, reward: [-1.34524828e-05]\n",
      "Step 1350, theta2: -1.607, reward: [-2.12020244e-05]\n",
      "Step 1400, theta2: -1.527, reward: [-1.26506772e-05]\n",
      "Step 1450, theta2: -1.567, reward: [-1.59630186e-05]\n",
      "Step 1500, theta2: -1.443, reward: [-2.19356364e-05]\n",
      "[DEBUG] Disturbance applied at step 1500: +0.3\n",
      "Step 1550, theta2: -1.427, reward: [-3.13140799e-05]\n",
      "Step 1600, theta2: -1.640, reward: [-1.10578872e-05]\n",
      "Step 1650, theta2: -1.573, reward: [0.09554324]\n",
      "Step 1700, theta2: -1.495, reward: [-1.22887888e-05]\n",
      "Step 1750, theta2: -1.468, reward: [-2.05369406e-05]\n",
      "Step 1800, theta2: -1.640, reward: [-1.09925777e-05]\n",
      "Step 1850, theta2: -1.690, reward: [-2.55770406e-05]\n",
      "Step 1900, theta2: -1.632, reward: [-2.37916331e-05]\n",
      "Step 1950, theta2: -1.471, reward: [0.09356982]\n",
      "Step 2000, theta2: -1.664, reward: [-2.18911183e-05]\n",
      "[DEBUG] Disturbance applied at step 2000: +0.3\n",
      "Step 2050, theta2: -1.519, reward: [-9.05923016e-06]\n",
      "Step 2100, theta2: -1.725, reward: [-2.93437582e-05]\n",
      "Step 2150, theta2: -1.486, reward: [0.09519738]\n",
      "Step 2200, theta2: -1.678, reward: [-2.23267674e-05]\n",
      "Step 2250, theta2: -1.751, reward: [-4.46063099e-05]\n",
      "Step 2300, theta2: -1.419, reward: [-4.05698696e-05]\n",
      "Step 2350, theta2: -1.440, reward: [-2.94057738e-05]\n",
      "Step 2400, theta2: -1.593, reward: [-1.90436724e-05]\n",
      "Step 2450, theta2: -1.590, reward: [-1.88045594e-05]\n",
      "Step 2500, theta2: -1.476, reward: [-1.37293914e-05]\n"
     ]
    }
   ],
   "source": [
    "import time\n",
    "import torch\n",
    "import numpy as np\n",
    "\n",
    "# Storage\n",
    "theta2_vals = []\n",
    "step_counter = 0\n",
    "\n",
    "# Reset environment\n",
    "observation, info = envs.reset()\n",
    "time.sleep(2)  # Allow browser time to open\n",
    "\n",
    "terminated = [False]\n",
    "truncated = [False]\n",
    "\n",
    "print(f\"Initial Observation: {observation}\")\n",
    "\n",
    "while not terminated[0] and not truncated[0] and step_counter < 2500:\n",
    "    # Predict action from trained model\n",
    "    action, _, _, _ = model.get_action_and_value(torch.tensor(observation, dtype=torch.float32), deterministic=True)\n",
    "    action = action.cpu().detach().numpy()\n",
    "\n",
    "    # Step environment\n",
    "    observation, reward, terminated, truncated, info = envs.step(action)\n",
    "\n",
    "    # Extract theta2\n",
    "    theta2 = np.arctan2(observation[0][3], observation[0][2])\n",
    "    theta2_vals.append(theta2)\n",
    "    step_counter += 1\n",
    "\n",
    "    if step_counter % 50 == 0:\n",
    "        print(f\"Step {step_counter}, theta2: {theta2:.3f}, reward: {reward}\")\n",
    "\n",
    "envs.close()\n"
   ]
  },
  {
   "cell_type": "code",
   "execution_count": 30,
   "id": "0c67aafa",
   "metadata": {},
   "outputs": [
    {
     "data": {
      "image/png": "[encoded data removed]",
      "text/plain": [
       "<Figure size 1000x400 with 1 Axes>"
      ]
     },
     "metadata": {},
     "output_type": "display_data"
    }
   ],
   "source": [
    "import matplotlib.pyplot as plt\n",
    "\n",
    "time_array = [i * 0.01 for i in range(len(theta2_vals))]\n",
    "\n",
    "plt.figure(figsize=(10, 4))\n",
    "plt.plot(time_array, theta2_vals, label='theta2 [rad]')\n",
    "plt.xlabel('Time [s]')\n",
    "plt.ylabel('Pendulum Angle (theta2) [rad]')\n",
    "plt.title('Theta2 evolution (trained model, 25-second limit)')\n",
    "plt.grid(True)\n",
    "plt.legend()\n",
    "plt.tight_layout()\n",
    "plt.show()\n"
   ]
  },
  {
   "cell_type": "markdown",
   "id": "876e1815",
   "metadata": {},
   "source": [
    "### Results of Testing\n",
    "\n",
    "The model trained using domain randomization is able to effectively handle larger torque and observation noise (up to 5%), as well as external disturbances with amplitudes up to 30% of the maximum torque (still causes it to lose stability but it is able to recover by swinging up again). This demonstrates the effectiveness of domain randomization in improving the policy's robustness to sensor noise and unexpected perturbations during deployment. Even with more frequent disturbances, the policy trained with domain randomization is able to recover after losing stability by swinging up again and stabilising the pendulum.\n",
    "\n",
    "While the benefits in generalization and robustness are evident, domain randomization does introduce certain trade-offs. Training can be slower and more unstable due to the broader range of dynamics the policy must learn to cope with. The resulting policy, although robust, may be less finely tuned for a specific environment compared to a policy trained without randomization.\n",
    "\n",
    "Interestingly, testing revealed different behavioral tendencies between models trained for different durations. The policy trained for 10 million timesteps was more successful at maintaining balance when a disturbance was applied, suggesting it had become robust to parameter variation and small perturbations. However, once the pendulum was knocked out of balance, this model frequently failed to recover and instead entered an oscillatory swing-up pattern without stabilizing again. This may indicate that the longer training caused the policy to overfit to the randomized dynamics without experiencing or adapting to recovery scenarios.\n",
    "\n",
    "In contrast, the model trained for 8 million timesteps was slightly more sensitive to disturbances and more likely to lose balance initially. However, it consistently managed to recover and stabilize the pendulum after such perturbations. This suggests a more flexible policy that, while not as resistant to disturbance, retained a more general ability to recover from instability.\n",
    "\n",
    "This comparison highlights an important nuance: robustness does not only involve resisting disturbances but also the capacity to recover from them. Excessive training on randomized but disturbance-free data may cause a policy to lose this adaptability, underscoring the importance of including recovery scenarios in the training curriculum if that is a desired capability.\n",
    "\n",
    "> **Note:** The explained variance of the 10M policy drops significantly during training, suggesting reduced generalization. This aligns with observed behavior where the policy is less able to adapt to recovery situations, despite performing well under stable conditions.\n"
   ]
  },
  {
   "cell_type": "markdown",
   "id": "1987e335",
   "metadata": {},
   "source": [
    "## 3. Comparison of Model-Based Approach and Reinforcement Learning Approach\n",
    "\n",
    "The two control strategies can be compared along three key dimensions:\n",
    "\n",
    "- **Task Completion Time**  \n",
    "  Measures how quickly each approach is able to swing up and stabilize the pendulum. Faster completion may indicate more efficient planning or control.\n",
    "\n",
    "- **Robustness to Noise and Disturbances (Generalizability)**  \n",
    "  Evaluates how well each approach handles unexpected changes in dynamics, sensor noise, or initial conditions. This reflects the controller's ability to generalize beyond its training or design assumptions.\n",
    "\n",
    "- **Implementation Complexity and Requirements**  \n",
    "  Considers the effort and expertise required to develop each controller. This includes factors such as model accuracy requirements, tuning effort, training data, computational cost, and reliance on simulators or analytical models.\n"
   ]
  },
  {
   "cell_type": "markdown",
   "id": "9a7c4fe6",
   "metadata": {},
   "source": [
    "### Time Comparison\n",
    "\n",
    "#### Model-Based Approach\n",
    "\n",
    "Implementing the model-based approach led to a significantly faster and more consistent swing-up time for the pendulum. The task was completed in approximately **0.3 seconds**, with the motion trajectory directly guiding the pendulum toward the desired target without unnecessary oscillations or repeated attempts. As shown in the plots provided in the first section, the system follows an optimized trajectory tailored to the task, demonstrating the effectiveness of model-based planning.\n",
    "\n",
    "#### Reinforcement Learning (RL) Approach\n",
    "\n",
    "In contrast, the RL-based approach resulted in a slower and less reliable swing-up. The average time required to complete the task was approximately **$1.2$ seconds**, and the trajectories often showed delayed convergence to the goal. The pendulum frequently needed multiple correction attempts, leading to less efficient and more variable motion. This reflects the exploratory nature of RL policies and their reduced ability to exploit precise system dynamics compared to model-based optimization.\n"
   ]
  },
  {
   "cell_type": "markdown",
   "id": "48ad94e5",
   "metadata": {},
   "source": [
    "## Robustness\n",
    "\n",
    "### Model-Based Approach\n",
    "\n",
    "The model-based approach is inherently less robust to external disturbances, as it relies on an open-loop feedforward trajectory computed by the optimal control problem (OCP). This trajectory assumes ideal conditions, and the reinforcement learning (RL) policy used to stabilize the system operates within constrained action bounds, limiting its ability to correct unexpected deviations. As a result, even small disturbances can cause the strategy to fail.\n",
    "\n",
    "To evaluate this, a custom environment (`furuta_torque_env_swingup_noise_disturb.py`) was created, allowing controlled disturbances and noise to be introduced into the system. This enabled systematic testing of the robustness of different control strategies.\n",
    "\n",
    "Experiments using the combined OCP + RL strategy in a disturbed environment revealed that a torque disturbance of just 2% of the input value was sufficient to consistently destabilize the system and prevent successful swing-up. Adding noise to the input torque further reduced robustness, as it disturbed the optimized feedforward trajectory even more. The trajectory planner relies on an ideal feedforward execution; any deviation can prevent the pendulum from reaching the precise upright position required to successfully switch to the RL policy for stabilization.\n",
    "\n",
    "To cope with such disturbances and noise, a more advanced model-based control strategy would be necessary. This would involve identifying a realistic model of the Furuta pendulum that includes sensor and actuator noise, as well as natural environmental disturbances.\n",
    "\n",
    "The following code initializes the environment with the added disturbances and noise:\n"
   ]
  },
  {
   "cell_type": "code",
   "execution_count": 31,
   "id": "a2a618d1",
   "metadata": {},
   "outputs": [
    {
     "name": "stdout",
     "output_type": "stream",
     "text": [
      "model name: furuta_pendulum\n",
      "q: [0. 0.]\n",
      "T_pin:   R =\n",
      "           1            0            0\n",
      "           0           -1  1.22465e-16\n",
      "           0 -1.22465e-16           -1\n",
      "  p =    0.093525 1.57979e-17       0.055\n",
      "\n",
      "You can open the visualizer by visiting the following URL:\n",
      "http://127.0.0.1:7006/static/\n"
     ]
    }
   ],
   "source": [
    "from src.envs.furuta_torque_env_swingup_noise_disturb import FurutaPendulumSwingupEnv\n",
    "\n",
    "gym.register(\n",
    "    id=\"FurutaPendulumTorque-v1\",\n",
    "    entry_point=FurutaPendulumSwingupEnv,\n",
    ")\n",
    "\n",
    "env = gym.make(\n",
    "    \"FurutaPendulumTorque-v1\",\n",
    "    urdf_model_path=urdf_path,\n",
    "    forward_dynamics_casadi_path=forward_dynamics_casadi_path,\n",
    "    parameters_model=parameters_model,\n",
    "    render=True,\n",
    "    swingup=True,\n",
    "    apply_disturbance=True,\n",
    "    apply_noise=False, # not applying noise to the observations or torques\n",
    "    torque_noise_std=0.03,\n",
    "    obs_noise_std=0.03,\n",
    "    disturbance_steps=[10, 25],\n",
    "    disturbance_amplitude=0.02 \n",
    ")"
   ]
  },
  {
   "cell_type": "code",
   "execution_count": 32,
   "id": "44b78bda",
   "metadata": {},
   "outputs": [
    {
     "name": "stderr",
     "output_type": "stream",
     "text": [
      "c:\\Users\\beppe\\miniconda3\\envs\\furuta-rl\\Lib\\site-packages\\gymnasium\\envs\\registration.py:512: DeprecationWarning: \u001b[33mWARN: The environment FurutaPendulumTorque-v0 is out of date. You should consider upgrading to version `v1`.\u001b[0m\n",
      "  logger.deprecation(\n"
     ]
    },
    {
     "name": "stdout",
     "output_type": "stream",
     "text": [
      "model name: furuta_pendulum\n",
      "q: [0. 0.]\n",
      "T_pin:   R =\n",
      "           1            0            0\n",
      "           0           -1  1.22465e-16\n",
      "           0 -1.22465e-16           -1\n",
      "  p =    0.093525 1.57979e-17       0.055\n",
      "\n",
      "You can open the visualizer by visiting the following URL:\n",
      "http://127.0.0.1:7007/static/\n"
     ]
    },
    {
     "data": {
      "text/plain": [
       "Agent(\n",
       "  (critic): Sequential(\n",
       "    (0): Linear(in_features=7, out_features=64, bias=True)\n",
       "    (1): Tanh()\n",
       "    (2): Linear(in_features=64, out_features=64, bias=True)\n",
       "    (3): Tanh()\n",
       "    (4): Linear(in_features=64, out_features=1, bias=True)\n",
       "  )\n",
       "  (actor_mean): Sequential(\n",
       "    (0): Linear(in_features=7, out_features=64, bias=True)\n",
       "    (1): Tanh()\n",
       "    (2): Linear(in_features=64, out_features=64, bias=True)\n",
       "    (3): Tanh()\n",
       "    (4): Linear(in_features=64, out_features=1, bias=True)\n",
       "  )\n",
       ")"
      ]
     },
     "execution_count": 32,
     "metadata": {},
     "output_type": "execute_result"
    }
   ],
   "source": [
    "import torch\n",
    "from src.agents.ppo_continuous_action import Agent, make_env\n",
    "\n",
    "saved_model_path = 'data/furuta_pendulum_tensorboard/furutaTorque__ppo_continuous_action__42__1744890705/ppo_continuous_action.cleanrl_model' # no swingup\n",
    "\n",
    "# Set to False if task includes swingup\n",
    "swingup = True\n",
    "\n",
    "envs = gym.vector.SyncVectorEnv(\n",
    "        [make_env(urdf_path=urdf_path, \n",
    "                  parameters_model=parameters_model, \n",
    "                  forward_dynamics_casadi_path=forward_dynamics_casadi_path,\n",
    "                  render=True, swingup=swingup) for _ in range(1)]\n",
    "    )\n",
    "\n",
    "model = Agent(envs=envs)\n",
    "\n",
    "model.load_state_dict(torch.load(saved_model_path, map_location=\"cpu\"))\n",
    "model.eval()\n",
    "# do not use the link printed below, use the one printed above in the previous code module"
   ]
  },
  {
   "cell_type": "markdown",
   "id": "fef916dc",
   "metadata": {},
   "source": [
    "### To Run the Simulation of OCP + RL\n",
    "\n",
    "To evaluate the combined performance of the OCP and the RL policy under disturbances, the following code can be used. This initializes the custom environment with injected noise and disturbances, applies the OCP-generated control sequence for the initial swing-up, and then switches to the PPO policy for stabilization:"
   ]
  },
  {
   "cell_type": "code",
   "execution_count": 33,
   "id": "e5413e17",
   "metadata": {},
   "outputs": [
    {
     "name": "stdout",
     "output_type": "stream",
     "text": [
      "[DEBUG] Disturbance applied at step 10: +0.02\n",
      "[DEBUG] Disturbance applied at step 25: +0.02\n",
      "Switching to PPO agent at step 31\n",
      "PPO agent terminated episode.\n"
     ]
    }
   ],
   "source": [
    "# Step 1: Reset and start with motion planner\n",
    "obs, _ = env.reset()\n",
    "obs = torch.tensor(obs, dtype=torch.float32).unsqueeze(0)  # For PPO agent later\n",
    "\n",
    "# Step 2: Apply OCP torques first\n",
    "handover_step = -1\n",
    "for i in range(len(torque_command)):\n",
    "    u_actual = torque_command[i, 0]\n",
    "    u_norm = u_actual / parameters_model[\"max_torque_joint0\"]\n",
    "\n",
    "    obs_np, reward, done, truncated, info = env.step([u_norm])\n",
    "    obs = torch.tensor(obs_np, dtype=torch.float32).unsqueeze(0)\n",
    "\n",
    "    if truncated or handover_step > len(time_grid) - 1:\n",
    "        print(f\"OCP terminated at step {i}\")\n",
    "        break\n",
    "\n",
    "    handover_step = i\n",
    "\n",
    "# Step 3: Switch to learned PPO model\n",
    "print(f\"Switching to PPO agent at step {handover_step + 1}\")\n",
    "\n",
    "while True:\n",
    "    with torch.no_grad():\n",
    "        action, _, _, _ = model.get_action_and_value(obs, deterministic=True)\n",
    "\n",
    "    obs_np, reward, done, truncated, info = env.step(action.cpu().numpy()[0])\n",
    "    obs = torch.tensor(obs_np, dtype=torch.float32).unsqueeze(0)\n",
    "\n",
    "    if done or truncated:\n",
    "        print(\"PPO agent terminated episode.\")\n",
    "        break"
   ]
  },
  {
   "cell_type": "markdown",
   "id": "d89907ef",
   "metadata": {},
   "source": [
    "### RL Approach\n",
    "\n",
    "The RL approach is expected to be more robust than the model-based strategy, as previously discussed and showcased in detail in Question 2. Unlike a feedforward trajectory, an RL policy is inherently reactive and can adapt to unexpected disturbances during execution.\n",
    "\n",
    "When tested in the environment with injected disturbances, the baseline PPO policy, trained without domain randomization, was able to stabilize the system under **3% observation noise** and **torque disturbances up to 10%**, demonstrating a notably higher robustness compared to the model-based approach. Even when disturbances temporarily pushed the pendulum away from the upright position, the policy was able to autonomously perform a new swing-up and re-stabilize without external intervention.\n",
    "\n",
    "Furthermore, training the policy using **domain randomization** significantly improved its resilience. This version of the policy could withstand up to **5% observation noise** and **30% torque disturbances** while maintaining stable performance, confirming that domain randomization enhances the generalization and robustness of the learned control strategy.\n"
   ]
  },
  {
   "cell_type": "markdown",
   "id": "4b82ec8f",
   "metadata": {},
   "source": [
    "## Complexity of the Approach\n",
    "\n",
    "### Model-Based Approach\n",
    "\n",
    "The model-based approach involves relatively low setup complexity. It requires the definition of a straightforward OCP, which integrates the URDF model, a YAML configuration file containing system parameters, and the dynamic model of the Furuta pendulum. Once defined, the OCP formulation can be solved using standard tools without the need for extensive parameter tuning.\n",
    "\n",
    "However, a key limitation is that the OCP alone cannot complete the task. While it provides an optimal feedforward trajectory for swing-up, it lacks feedback capability, making it insufficient for robust stabilization in the presence of disturbances or model inaccuracies.\n",
    "\n",
    "### RL Approach\n",
    "\n",
    "In contrast, the RL-based approach introduces significantly higher complexity in both implementation and training. A well-designed reward function must be carefully crafted to avoid sparsity and to encourage the desired behavior. The learning outcome is highly sensitive to training duration: insufficient training may result in failure to complete the task, while excessive training may lead to overfitting to the training conditions.\n",
    "\n",
    "Moreover, the training process is computationally intensive and time-consuming, often requiring millions of simulation steps to converge. It also demands careful tuning of hyperparameters, environment-specific wrappers, and policy architectures. Domain randomization or curriculum learning strategies may be needed to improve generalization, further increasing complexity.\n"
   ]
  },
  {
   "cell_type": "markdown",
   "id": "973d8938",
   "metadata": {},
   "source": [
    "## 4 Addition of Unactuated Link to Pendulum\n",
    "## Code snippet of the .URDF file of the new joint\n",
    "\n",
    "The new link and joint added are considered identical to the one already existing.\n",
    "\n",
    "### Additional Link and Joint in URDF\n",
    "\n",
    "To implement the additional link in the `.urdf` file, the following code was added. It introduces a **revolute joint** between the existing pendulum arm (`arm2`) and a new arm (`arm3`). The **end effector** is then attached at the end of this extended link chain.\n",
    "\n",
    "```xml\n",
    "<!-- Additional unactuated joint for Question 4 -->\n",
    "<joint name=\"joint2\" type=\"revolute\">\n",
    "  <origin rpy=\"-3.141592653589793 0.0 0.0\" xyz=\"0.0 0.0 0.129\"/>\n",
    "  <parent link=\"arm2\"/>\n",
    "  <child link=\"arm3\"/>\n",
    "  <axis xyz=\"1 0 0\"/> <!-- Adjust axis direction as needed -->\n",
    "  <dynamics damping=\"1.7905703040590617e-05\"/>\n",
    "  <limit effort=\"0.43\" velocity=\"100.0\"/>\n",
    "</joint>\n",
    "\n",
    "<link name=\"arm3\">\n",
    "  <visual>\n",
    "    <origin rpy=\"0 0 0\" xyz=\"0 0 -0.0645\"/>\n",
    "    <geometry>\n",
    "      <cylinder length=\"0.129\" radius=\"0.005\"/>\n",
    "    </geometry>\n",
    "    <material name=\"black\"/>\n",
    "  </visual>\n",
    "  <collision>\n",
    "    <origin rpy=\"0 0 0\" xyz=\"0 0 -0.0645\"/>\n",
    "    <geometry>\n",
    "      <cylinder length=\"0.129\" radius=\"0.005\"/>\n",
    "    </geometry>\n",
    "  </collision>\n",
    "  <inertial>\n",
    "    <mass value=\"0.009801\"/>\n",
    "    <origin rpy=\"0.0 0.0 0.0\" xyz=\"0.0 0.0 0.096608\"/>\n",
    "    <inertia ixx=\"0.000014790595\" ixy=\"0.0\" ixz=\"0.0\" \n",
    "             iyy=\"0.000014790595\" iyz=\"0.0\" izz=\"1e-06\"/>\n",
    "  </inertial>\n",
    "</link>\n",
    "\n",
    "<joint name=\"end_effector_joint\" type=\"fixed\">\n",
    "  <origin rpy=\"0.0 0.0 0.0\" xyz=\"0.0 0.0 0.258\"/>\n",
    "  <parent link=\"arm3\"/>\n",
    "  <child link=\"end_effector\"/>\n",
    "</joint>\n",
    "\n",
    "<link name=\"end_effector\">\n",
    "</link>\n",
    "\n"
   ]
  },
  {
   "cell_type": "markdown",
   "id": "eeef797f",
   "metadata": {},
   "source": [
    "### Modified `.yaml` File for Additional Joint and Link\n",
    "\n",
    "The `.yaml` file is updated to include parameters for the newly added link (`arm3`) and revolute joint (`joint2`). The following entries define the physical and dynamic properties of the third link and joint, maintaining consistency with the previous structure.\n",
    "\n",
    "```yaml\n",
    "parameters_model:\n",
    "  m1: 0.040466\n",
    "  m2: 0.009801\n",
    "  m3: 0.009801              # Mass of the new link\n",
    "\n",
    "  l1: 0.05415\n",
    "  l2: 0.096608\n",
    "  l3: 0.096608              # COM of new link \n",
    "\n",
    "  L1: 0.093525\n",
    "  L2: 0.129\n",
    "  L3: 0.129                # Length of new link \n",
    "\n",
    "  J1: 5.96237099e-04\n",
    "  J2: 0.000014790595\n",
    "  J3: 0.000014790595        # Inertia of new link \n",
    "\n",
    "  b1: 1.16511498e-02\n",
    "  b2: 1.7905703040590617e-05\n",
    "  b3: 1.7905703040590617e-05  # Damping for Q4 (same as b2)\n",
    "\n",
    "  max_velocity_joint0: 22.0\n",
    "  max_velocity_joint1: 50.0\n",
    "  max_velocity_joint2: 50.0   \n",
    "\n",
    "  max_angle_joint0: 6.283185307179586\n",
    "  max_angle_joint1: 6.283185307179586\n",
    "  max_angle_joint2: 6.2831592653589793\n",
    "\n",
    "  max_torque_joint0: 0.2\n"
   ]
  },
  {
   "cell_type": "markdown",
   "id": "3d104296",
   "metadata": {},
   "source": [
    "### Adaptation of the Environment for the Third Joint\n",
    "\n",
    "To integrate the third joint into the simulation environment, the following key modifications were made in the `FurutaPendulumSimulator` and `FurutaPendulumTorqueEnv` classes:\n",
    "\n",
    "- The **state vector** `self.x` was extended to 6 elements: 3 joint positions and 3 joint velocities (`[θ₁, θ₂, θ₃, θ̇₁, θ̇₂, θ̇₃]`).\n",
    "- The **initial position and velocity arrays** (`init_qpos`, `init_qvel`) were expanded to include the third joint, and used to initialize `self.pendulum_sim.x`.\n",
    "- The **CasADi dynamics function** `create_f_state_transition` now handles a 6D state vector (3 positions + 3 velocities) and uses the third joint in `q_sym`, `dq_sym`, and `ddq_sym`.\n",
    "- The **visualizer display call** was updated with a 3-element configuration (`q_init = np.array([0, 0, 0])`) to match the updated model.\n",
    "- The **maximum velocity and angle limits** for `joint2` were added (`_max_velocity_joint2`, `_max_angle_joint2`) and used in termination conditions.\n",
    "- The **observation vector** was extended to 10 dimensions, including `sin(θ₃)`, `cos(θ₃)`, normalized `𝜃̇₃`, and scaled `θ₁`.\n",
    "- The **reward function** in the non-swingup case includes terms to penalize deviations in both `θ₂` and `θ₃` from the upright position (`π`) and includes weights for `𝜃̇₃`.\n",
    "\n",
    "These changes ensure the simulator correctly models the extended 3-joint Furuta pendulum and the environment handles the larger state and observation spaces accordingly.\n",
    "\n"
   ]
  },
  {
   "cell_type": "markdown",
   "id": "77eb742b",
   "metadata": {},
   "source": [
    "### Extending PPO to Support a Three-Joint System\n",
    "\n",
    "This PPO implementation has been adapted to handle a more complex system with three degrees of freedom by integrating the new custom environment (`FurutaPendulumTorqueEnv`) that reflects the updated dynamics. The registration of this new environment (`FurutaPendulumTorque_Q4-v0`) through the `gym.register()` function ensures that the PPO agent interacts with a simulation that includes the third unactuated joint. The observation and action spaces are automatically adjusted to match the increased dimensionality, and the `Agent` class uses these updated shapes to define the input and output layers of both the policy and value networks. Moreover, the system parameters, URDF model, and CasADi dynamics are loaded from a YAML configuration file specifically prepared for the three-joint model, ensuring consistent dynamics throughout training. The vectorized environment setup and training loop remain structurally unchanged, making this implementation flexible and scalable to higher-dimensional control problems with minimal modifications.\n"
   ]
  },
  {
   "cell_type": "markdown",
   "id": "be094f04",
   "metadata": {},
   "source": [
    "### ADAPTATION OF THE ENVIRONMENT CODE TO NEW URDF AND NEW DYNAMICS FILE\n"
   ]
  },
  {
   "cell_type": "code",
   "execution_count": 46,
   "id": "c63a2d2f",
   "metadata": {},
   "outputs": [],
   "source": [
    "import os\n",
    "import time\n",
    "import yaml\n",
    "import numpy as np\n",
    "import casadi as ca\n",
    "from rockit import *\n",
    "from matplotlib import pyplot as plt\n",
    "import pinocchio as pin\n",
    "import pinocchio.casadi as cpin\n",
    "from pinocchio.visualize import MeshcatVisualizer as PMV\n",
    "import meshcat\n",
    "import meshcat.transformations as tf\n",
    "import gymnasium as gym\n",
    "\n",
    "import torch\n",
    "from src.agents.ppo_continuous_action import Agent, make_env\n",
    "\n",
    "\n",
    "os.environ[\"KMP_DUPLICATE_LIB_OK\"] = \"TRUE\""
   ]
  },
  {
   "cell_type": "markdown",
   "id": "c3dbcc7f",
   "metadata": {},
   "source": [
    "### Model Loading and Visualization\n",
    "\n",
    "The code loads the updated `.yaml` and `.urdf` files for the three-joint pendulum model. It also opens a visualization window to verify that the URDF model is correctly structured.\n"
   ]
  },
  {
   "cell_type": "code",
   "execution_count": 1,
   "id": "bd371d0f",
   "metadata": {},
   "outputs": [
    {
     "ename": "NameError",
     "evalue": "name 'yaml' is not defined",
     "output_type": "error",
     "traceback": [
      "\u001b[31m---------------------------------------------------------------------------\u001b[39m",
      "\u001b[31mNameError\u001b[39m                                 Traceback (most recent call last)",
      "\u001b[36mCell\u001b[39m\u001b[36m \u001b[39m\u001b[32mIn[1]\u001b[39m\u001b[32m, line 2\u001b[39m\n\u001b[32m      1\u001b[39m \u001b[38;5;28;01mwith\u001b[39;00m \u001b[38;5;28mopen\u001b[39m(\u001b[33m'\u001b[39m\u001b[33msrc/pendulum_model/NEW_PENDULUM_DESCRIPTION/NEW_simulation_pendulum_Q4.yaml\u001b[39m\u001b[33m'\u001b[39m, \u001b[33m'\u001b[39m\u001b[33mr\u001b[39m\u001b[33m'\u001b[39m) \u001b[38;5;28;01mas\u001b[39;00m file:\n\u001b[32m----> \u001b[39m\u001b[32m2\u001b[39m         config = \u001b[43myaml\u001b[49m.safe_load(file)\n\u001b[32m      4\u001b[39m parameters_model = config[\u001b[33m\"\u001b[39m\u001b[33mparameters_model\u001b[39m\u001b[33m\"\u001b[39m]\n\u001b[32m      5\u001b[39m urdf_model_path  = \u001b[33m'\u001b[39m\u001b[33msrc/pendulum_model/NEW_PENDULUM_DESCRIPTION/NEW_furuta_pendulum_Q4.urdf\u001b[39m\u001b[33m'\u001b[39m\n",
      "\u001b[31mNameError\u001b[39m: name 'yaml' is not defined"
     ]
    }
   ],
   "source": [
    "with open('src/pendulum_model/NEW_PENDULUM_DESCRIPTION/NEW_simulation_pendulum_Q4.yaml', 'r') as file:\n",
    "        config = yaml.safe_load(file)\n",
    "\n",
    "parameters_model = config[\"parameters_model\"]\n",
    "urdf_model_path  = 'src/pendulum_model/NEW_PENDULUM_DESCRIPTION/NEW_furuta_pendulum_Q4.urdf'\n",
    "forward_dynamics_casadi_path = 'src/pendulum_model/NEW_PENDULUM_DESCRIPTION/NEW_forward_dynamics_Q4.casadi'\n",
    "\n",
    "\n",
    "mesh_dir = \"meshes\"\n",
    "\n",
    "# Load the urdf model\n",
    "model, collision_model, visual_model = pin.buildModelsFromUrdf(\n",
    "    urdf_model_path, mesh_dir\n",
    ")\n",
    "print(\"model name: \" + model.name)\n",
    "frame_name= \"end_effector\"\n",
    "print (model.getFrameId(frame_name))\n",
    "# Create data required by the algorithms\n",
    "data, collision_data, visual_data = pin.createDatas(\n",
    "    model, collision_model, visual_model\n",
    ")\n",
    "\n",
    "# Define the equivalent casadi model and data\n",
    "cmodel = cpin.Model(model)\n",
    "cdata = cmodel.createData()\n",
    "\n",
    "# Visualize robot\n",
    "viz = PMV(model, collision_model, visual_model, collision_data=collision_data, visual_data=visual_data)\n",
    "viz.initViewer(open=False)\n",
    "viz.loadViewerModel(rootNodeName=\"robot\")\n",
    "viz.display(np.zeros(model.nv))"
   ]
  },
  {
   "cell_type": "markdown",
   "id": "1c9ef9c2",
   "metadata": {},
   "source": [
    "### Loading Simulation Configuration Files\n",
    "\n",
    "This code loads the simulation configuration from a `.yaml` file, including model parameters and file paths for the URDF and CasADi dynamics model.\n"
   ]
  },
  {
   "cell_type": "code",
   "execution_count": 50,
   "id": "d7c83046",
   "metadata": {},
   "outputs": [],
   "source": [
    "with open('src/pendulum_model/NEW_PENDULUM_DESCRIPTION/NEW_simulation_pendulum_Q4.yaml', 'r') as file:\n",
    "        config = yaml.safe_load(file)\n",
    "\n",
    "parameters_model = config[\"parameters_model\"]\n",
    "urdf_path = os.path.join(\"src/pendulum_model/NEW_PENDULUM_DESCRIPTION\", config[\"urdf_filename\"])\n",
    "forward_dynamics_casadi_path = os.path.join(\"src/pendulum_model/NEW_PENDULUM_DESCRIPTION\", config[\"forward_dynamics_casadi_filename\"])"
   ]
  },
  {
   "cell_type": "markdown",
   "id": "6027db7b",
   "metadata": {},
   "source": [
    "### Adaptation of the Optimal Control Problem for the Third Joint\n",
    "\n",
    "The optimal control problem was updated to support a third unactuated joint, with the following changes:\n",
    "\n",
    "- **State and control dimensions** were increased to handle 3 joint angles and 3 joint velocities (`x`, `v`) and 3 torques (`u`), even though only joint 0 is actuated.\n",
    "- **Joint limits (`q_min`, `q_max`) and velocity bounds (`v_min`, `v_max`)** were extended to include the third joint.\n",
    "- **Control bounds (`u_min`, `u_max`)** were specified such that only `u[0]` is actuated; other inputs remain zero.\n",
    "- **Boundary conditions** were added at `t₀` and `t_f` for both positions and velocities, including zero velocity targets for joint 2 and 3 at final time.\n",
    "- **The forward dynamics function** was modified to apply torque only to the first joint.\n",
    "- **The objective function** now penalizes deviation of both `θ₂` and `θ₃` from the upright position, enabling coordinated stabilization of both pendulum arms.\n",
    "\n",
    "These changes allow the OCP to generate torque commands that swing up and stabilize the system while accounting for the extended dynamics.\n"
   ]
  },
  {
   "cell_type": "code",
   "execution_count": 51,
   "id": "51540b7a",
   "metadata": {},
   "outputs": [
    {
     "ename": "RuntimeError",
     "evalue": "D:\\bld\\casadi_1739119751166\\work\\casadi\\core\\serializing_stream.cpp:384: Assertion \"load_version==v\" failed:\nDeSerialization of SXFunction failed. Object written in version 2 but can only read in version 1.",
     "output_type": "error",
     "traceback": [
      "\u001b[31m---------------------------------------------------------------------------\u001b[39m",
      "\u001b[31mRuntimeError\u001b[39m                              Traceback (most recent call last)",
      "\u001b[32m~\\AppData\\Local\\Temp\\ipykernel_26260\\1599047590.py\u001b[39m in \u001b[36m?\u001b[39m\u001b[34m()\u001b[39m\n\u001b[32m     31\u001b[39m ocp.subject_to(ocp.at_tf(v[\u001b[32m2\u001b[39m])== \u001b[32m0\u001b[39m)\n\u001b[32m     32\u001b[39m \u001b[38;5;66;03m# ocp.subject_to(ocp.at_tf(u[0]) == 0)\u001b[39;00m\n\u001b[32m     33\u001b[39m \n\u001b[32m     34\u001b[39m \u001b[38;5;66;03m# Dummy forward dynamics function for demonstration\u001b[39;00m\n\u001b[32m---> \u001b[39m\u001b[32m35\u001b[39m forward_dynamics_raw = ca.Function.load(forward_dynamics_casadi_path)\n\u001b[32m     36\u001b[39m \n\u001b[32m     37\u001b[39m \u001b[38;5;28;01mdef\u001b[39;00m forward_dynamics_ca(q, dq, tau):\n\u001b[32m     38\u001b[39m     \u001b[38;5;28;01mreturn\u001b[39;00m forward_dynamics_raw(q, dq, tau[\u001b[32m0\u001b[39m])  \u001b[38;5;66;03m# Only joint 0 is actuated\u001b[39;00m\n",
      "\u001b[32mc:\\Users\\beppe\\miniconda3\\envs\\furuta-rl\\Lib\\site-packages\\casadi\\casadi.py\u001b[39m in \u001b[36m?\u001b[39m\u001b[34m(*args)\u001b[39m\n\u001b[32m  23181\u001b[39m \n\u001b[32m  23182\u001b[39m \n\u001b[32m  23183\u001b[39m \n\u001b[32m  23184\u001b[39m         \"\"\"\n\u001b[32m> \u001b[39m\u001b[32m23185\u001b[39m         \u001b[38;5;28;01mreturn\u001b[39;00m _casadi.Function_load(*args)\n",
      "\u001b[31mRuntimeError\u001b[39m: D:\\bld\\casadi_1739119751166\\work\\casadi\\core\\serializing_stream.cpp:384: Assertion \"load_version==v\" failed:\nDeSerialization of SXFunction failed. Object written in version 2 but can only read in version 1."
     ]
    }
   ],
   "source": [
    "T_fixed = 0.9\n",
    "ocp = Ocp(T=T_fixed)\n",
    "N = 90\n",
    "M = 1\n",
    "\n",
    "q_min = np.array([-parameters_model[\"max_angle_joint0\"], -parameters_model[\"max_angle_joint1\"],-parameters_model[\"max_angle_joint2\"]])\n",
    "q_max = np.array([ parameters_model[\"max_angle_joint0\"],  parameters_model[\"max_angle_joint1\"],  parameters_model[\"max_angle_joint2\"]])\n",
    "\n",
    "v_min = np.array([-parameters_model[\"max_velocity_joint0\"], -0.5*parameters_model[\"max_velocity_joint1\"], -0.5*parameters_model[\"max_velocity_joint2\"]])\n",
    "v_max = -v_min\n",
    "\n",
    "u_min = np.array([-parameters_model[\"max_torque_joint0\"], 0.0,0.0])  # only joint 0 actuated\n",
    "u_max = -u_min\n",
    "\n",
    "q_start = np.array([0,0,0])\n",
    "q_goal = np.array([0.0, np.deg2rad(180),0])\n",
    "\n",
    "q_sym = ca.MX.sym('q', 3)\n",
    "v_sym = ca.MX.sym('v', 3)\n",
    "u_sym = ca.MX.sym('u', 3)\n",
    "\n",
    "x = ocp.state(len(q_min))\n",
    "v = ocp.state(len(q_min))\n",
    "u = ocp.control(len(q_min))\n",
    "\n",
    "ocp.subject_to(ocp.at_t0(x) == q_start)\n",
    "ocp.subject_to(ocp.at_t0(v) == 0)\n",
    "ocp.subject_to(ocp.at_t0(u[0]) == 0)\n",
    "ocp.subject_to(ocp.at_tf(x) == q_goal)\n",
    "ocp.subject_to(ocp.at_tf(v[1]) == 0)\n",
    "ocp.subject_to(ocp.at_tf(v[2])== 0)\n",
    "# ocp.subject_to(ocp.at_tf(u[0]) == 0)\n",
    "\n",
    "# Dummy forward dynamics function for demonstration\n",
    "forward_dynamics_raw = ca.Function.load(forward_dynamics_casadi_path)\n",
    "\n",
    "def forward_dynamics_ca(q, dq, tau):\n",
    "    return forward_dynamics_raw(q, dq, tau[0])  # Only joint 0 is actuated\n",
    "\n",
    "\n",
    "ocp.set_der(x, v)\n",
    "ocp.set_der(v, forward_dynamics_ca(x, v, u))\n",
    "\n",
    "ocp.method(MultipleShooting(N=N, M=M, intg='rk'))\n",
    "\n",
    "ocp.subject_to(x >= q_min)\n",
    "ocp.subject_to(x <= q_max)\n",
    "\n",
    "ocp.subject_to(v >= v_min)\n",
    "ocp.subject_to(v <= v_max)\n",
    "\n",
    "ocp.subject_to(u >= u_min)\n",
    "ocp.subject_to(u <= u_max)\n",
    "\n",
    "theta2 = x[1]\n",
    "dtheta2 = v[1]\n",
    "theta2_goal = q_goal[1]\n",
    "\n",
    "theta3 = x[2]\n",
    "dtheta3 = v[2]\n",
    "theta3_goal = q_goal[2]\n",
    "\n",
    "\n",
    "# Penalize deviation from upright and minimize pendulum velocity + control effort\n",
    "ocp.add_objective(ocp.integral(10 * (theta2 - theta2_goal)**2+ 10 *(theta3 - theta3_goal)**2))\n",
    "# ocp.add_objective(ocp.T)\n",
    "\n",
    "options = {\"expand\": True, 'print_time': True,\n",
    "                'ipopt.print_level': 4}        \n",
    "ocp.solver('ipopt', options)\n",
    "\n",
    "# Store variables if needed\n",
    "ocp_x = x\n",
    "ocp_v = v\n",
    "ocp_u = u\n",
    "\n",
    "sol = ocp.solve()\n",
    "final_time = sol.value(ocp.T)\n",
    "print(\"Time to solve: \", final_time)\n",
    "\n",
    "time_grid, torque_command = sol.sample(ocp_u, grid='control')\n",
    "print(\"Torque command: \", torque_command)\n",
    "\n",
    "for t in range(torque_command.shape[0]):\n",
    "    torque_actual = torque_command[t, 0]\n",
    "    u_norm = torque_actual / parameters_model[\"max_torque_joint0\"]\n",
    "    # obs, reward, done, _, _ = env.step([u_norm])\n",
    "\n",
    "actual_dt = final_time / (N * M)\n",
    "print(\"OCP dt:\", actual_dt)\n",
    "\n",
    "u_norm = torque_command[:, 0] / parameters_model[\"max_torque_joint0\"]\n",
    "print(\"Normalized torques range:\", np.min(u_norm), np.max(u_norm))"
   ]
  },
  {
   "cell_type": "code",
   "execution_count": 52,
   "id": "737b9d66",
   "metadata": {},
   "outputs": [
    {
     "name": "stdout",
     "output_type": "stream",
     "text": [
      "Time steps: (31,)\n",
      "Torque command shape: (31, 2)\n",
      "First few torques (actual): [ 3.82959253e-31 -2.00000009e-01 -2.00000009e-01 -2.00000009e-01\n",
      " -2.00000009e-01]\n",
      "First few torques (normalized): [ 1.91479627e-30 -1.00000005e+00 -1.00000005e+00 -1.00000005e+00\n",
      " -1.00000004e+00]\n"
     ]
    },
    {
     "ename": "RuntimeError",
     "evalue": "Error in Opti::value [OptiNode] at D:\\bld\\casadi_1739119751166\\work\\casadi\\core\\optistack.cpp:181:\nD:\\bld\\casadi_1739119751166\\work\\casadi\\core\\optistack_internal.cpp:509: Unknown: MX symbol 'x1' of shape 3x1, declared outside of Opti.\nNote: you cannot use a raw MX.sym in your Opti problem, only if you package it in a CasADi Function.",
     "output_type": "error",
     "traceback": [
      "\u001b[31m---------------------------------------------------------------------------\u001b[39m",
      "\u001b[31mRuntimeError\u001b[39m                              Traceback (most recent call last)",
      "\u001b[32m~\\AppData\\Local\\Temp\\ipykernel_26260\\2602009613.py\u001b[39m in \u001b[36m?\u001b[39m\u001b[34m()\u001b[39m\n\u001b[32m      3\u001b[39m print(\u001b[33m\"First few torques (actual):\"\u001b[39m, torque_command[:\u001b[32m5\u001b[39m, \u001b[32m0\u001b[39m])\n\u001b[32m      4\u001b[39m print(\u001b[33m\"First few torques (normalized):\"\u001b[39m, torque_command[:\u001b[32m5\u001b[39m, \u001b[32m0\u001b[39m] / parameters_model[\u001b[33m\"max_torque_joint0\"\u001b[39m])\n\u001b[32m      5\u001b[39m \n\u001b[32m      6\u001b[39m \u001b[38;5;66;03m# === Sample the optimized solution ===\u001b[39;00m\n\u001b[32m----> \u001b[39m\u001b[32m7\u001b[39m time_vec, q_traj = sol.sample(x, grid=\u001b[33m'control'\u001b[39m)\n\u001b[32m      8\u001b[39m _, dq_traj = sol.sample(v, grid=\u001b[33m'control'\u001b[39m)\n\u001b[32m      9\u001b[39m _, u_traj = sol.sample(u, grid=\u001b[33m'control'\u001b[39m)\n\u001b[32m     10\u001b[39m \n",
      "\u001b[32mc:\\Users\\beppe\\miniconda3\\envs\\furuta-rl\\Lib\\site-packages\\rockit\\solution.py\u001b[39m in \u001b[36m?\u001b[39m\u001b[34m(self, expr, grid, **kwargs)\u001b[39m\n\u001b[32m     82\u001b[39m         >>> sol = ocp.solve()\n\u001b[32m     83\u001b[39m         >>> tx, xs = sol.sample(x, grid=\u001b[33m'control'\u001b[39m)\n\u001b[32m     84\u001b[39m         \"\"\"\n\u001b[32m     85\u001b[39m         time, res = self.stage.sample(expr, grid, **kwargs)\n\u001b[32m---> \u001b[39m\u001b[32m86\u001b[39m         res = self.sol.value(res)\n\u001b[32m     87\u001b[39m         \u001b[38;5;28;01mreturn\u001b[39;00m self.sol.value(time), DM2numpy(res, MX(expr).shape, time.numel())\n",
      "\u001b[32mc:\\Users\\beppe\\miniconda3\\envs\\furuta-rl\\Lib\\site-packages\\rockit\\direct_method.py\u001b[39m in \u001b[36m?\u001b[39m\u001b[34m(self, expr, *args, **kwargs)\u001b[39m\n\u001b[32m    394\u001b[39m     \u001b[38;5;28;01mdef\u001b[39;00m value(self, expr, *args,**kwargs):\n\u001b[32m    395\u001b[39m         placeholders = self.opti_wrapper.ocp.placeholders_transcribed\n\u001b[32m--> \u001b[39m\u001b[32m396\u001b[39m         \u001b[38;5;28;01mreturn\u001b[39;00m self.sol.value(placeholders(expr), *args, **kwargs)\n",
      "\u001b[32mc:\\Users\\beppe\\miniconda3\\envs\\furuta-rl\\Lib\\site-packages\\casadi\\casadi.py\u001b[39m in \u001b[36m?\u001b[39m\u001b[34m(self, *args)\u001b[39m\n\u001b[32m  50857\u001b[39m \n\u001b[32m  50858\u001b[39m \n\u001b[32m  50859\u001b[39m \n\u001b[32m  50860\u001b[39m         \"\"\"\n\u001b[32m> \u001b[39m\u001b[32m50861\u001b[39m         \u001b[38;5;28;01mreturn\u001b[39;00m _casadi.OptiSol_value(self, *args)\n",
      "\u001b[31mRuntimeError\u001b[39m: Error in Opti::value [OptiNode] at D:\\bld\\casadi_1739119751166\\work\\casadi\\core\\optistack.cpp:181:\nD:\\bld\\casadi_1739119751166\\work\\casadi\\core\\optistack_internal.cpp:509: Unknown: MX symbol 'x1' of shape 3x1, declared outside of Opti.\nNote: you cannot use a raw MX.sym in your Opti problem, only if you package it in a CasADi Function."
     ]
    }
   ],
   "source": [
    "print(\"Time steps:\", time_grid.shape)\n",
    "print(\"Torque command shape:\", torque_command.shape)\n",
    "print(\"First few torques (actual):\", torque_command[:5, 0])\n",
    "print(\"First few torques (normalized):\", torque_command[:5, 0] / parameters_model[\"max_torque_joint0\"])\n",
    "\n",
    "# === Sample the optimized solution ===\n",
    "time_vec, q_traj = sol.sample(x, grid='control')\n",
    "_, dq_traj = sol.sample(v, grid='control')\n",
    "_, u_traj = sol.sample(u, grid='control')\n",
    "\n",
    "# === Plot joint positions ===\n",
    "plt.figure(figsize=(10, 4))\n",
    "plt.plot(time_vec, q_traj[:, 0], label=\"Base Joint (q0)\")\n",
    "plt.plot(time_vec, q_traj[:, 1], label=\"Pendulum Joint 1 (q1)\")\n",
    "plt.plot(time_vec, q_traj[:, 2], label=\"Pendulum Joint 2 (q2)\")  # NEW: theta2\n",
    "plt.title(\"Optimized Joint Angles\")\n",
    "plt.xlabel(\"Time [s]\")\n",
    "plt.ylabel(\"Angle [rad]\")\n",
    "plt.legend()\n",
    "plt.grid(True)\n",
    "plt.tight_layout()\n",
    "plt.show()\n",
    "\n",
    "# === Plot joint velocities ===\n",
    "plt.figure(figsize=(10, 4))\n",
    "plt.plot(time_vec, dq_traj[:, 0], label=\"Base Velocity (dq0)\")\n",
    "plt.plot(time_vec, dq_traj[:, 1], label=\"Pendulum Velocity 1 (dq1)\")\n",
    "plt.plot(time_vec, dq_traj[:, 2], label=\"Pendulum Velocity 2 (dq2)\")  # NEW: dtheta2\n",
    "plt.title(\"Optimized Joint Velocities\")\n",
    "plt.xlabel(\"Time [s]\")\n",
    "plt.ylabel(\"Angular Velocity [rad/s]\")\n",
    "plt.legend()\n",
    "plt.grid(True)\n",
    "plt.tight_layout()\n",
    "plt.show()\n",
    "\n",
    "# === Plot control torque ===\n",
    "plt.figure(figsize=(10, 4))\n",
    "plt.plot(time_vec, u_traj[:, 0], label=\"Torque on Joint 0 (u0)\")\n",
    "plt.title(\"Optimized Control Input\")\n",
    "plt.xlabel(\"Time [s]\")\n",
    "plt.ylabel(\"Torque [Nm]\")\n",
    "plt.legend()\n",
    "plt.grid(True)\n",
    "plt.tight_layout()\n",
    "plt.show()\n"
   ]
  },
  {
   "cell_type": "markdown",
   "id": "b7f67324",
   "metadata": {},
   "source": [
    "### Increased Control Activity in the Extended Optimization Problem\n",
    "\n",
    "The addition of a third, unactuated joint introduces greater dynamic complexity, making the control task more challenging and time-consuming. The optimizer must account for the coupled motion of two unactuated pendulums, resulting in more frequent and pronounced variations in the control input. These rapid and continuous changes reflect the system's need for finer adjustments to maintain balance and achieve the desired trajectory, highlighting the increased burden placed on the control strategy.\n",
    "\n",
    "\n"
   ]
  },
  {
   "cell_type": "markdown",
   "id": "d53acdd6",
   "metadata": {},
   "source": [
    "### Environment Registration and Task Execution Check\n",
    "\n",
    "The custom Gym environment is registered and instantiated using the updated pendulum model files.  \n",
    "This instance allows you to visually check in the browser whether the task is performed correctly.\n"
   ]
  },
  {
   "cell_type": "code",
   "execution_count": 53,
   "id": "354a2a1c",
   "metadata": {},
   "outputs": [
    {
     "name": "stderr",
     "output_type": "stream",
     "text": [
      "c:\\Users\\beppe\\miniconda3\\envs\\furuta-rl\\Lib\\site-packages\\gymnasium\\envs\\registration.py:636: UserWarning: \u001b[33mWARN: Overriding environment FurutaPendulumTorque-v0 already in registry.\u001b[0m\n",
      "  logger.warn(f\"Overriding environment {new_spec.id} already in registry.\")\n",
      "c:\\Users\\beppe\\miniconda3\\envs\\furuta-rl\\Lib\\site-packages\\gymnasium\\envs\\registration.py:512: DeprecationWarning: \u001b[33mWARN: The environment FurutaPendulumTorque-v0 is out of date. You should consider upgrading to version `v1`.\u001b[0m\n",
      "  logger.deprecation(\n"
     ]
    },
    {
     "name": "stdout",
     "output_type": "stream",
     "text": [
      "model name: furuta_pendulum_modified\n",
      "q: [0. 0. 0.]\n",
      "T_pin:   R =\n",
      "           1            0            0\n",
      "           0            1 -2.44929e-16\n",
      "           0  2.44929e-16            1\n",
      "  p =     0.093525 -4.73938e-17        0.313\n",
      "\n",
      "You can open the visualizer by visiting the following URL:\n",
      "http://127.0.0.1:7011/static/\n"
     ]
    },
    {
     "ename": "RuntimeError",
     "evalue": "D:\\bld\\casadi_1739119751166\\work\\casadi\\core\\serializing_stream.cpp:384: Assertion \"load_version==v\" failed:\nDeSerialization of SXFunction failed. Object written in version 2 but can only read in version 1.",
     "output_type": "error",
     "traceback": [
      "\u001b[31m---------------------------------------------------------------------------\u001b[39m",
      "\u001b[31mRuntimeError\u001b[39m                              Traceback (most recent call last)",
      "\u001b[32m~\\AppData\\Local\\Temp\\ipykernel_26260\\835661143.py\u001b[39m in \u001b[36m?\u001b[39m\u001b[34m()\u001b[39m\n\u001b[32m      5\u001b[39m     entry_point=FurutaPendulumTorqueEnv,\n\u001b[32m      6\u001b[39m )\n\u001b[32m      7\u001b[39m \n\u001b[32m      8\u001b[39m \u001b[38;5;66;03m# Create an instance of the FurutaPendulumTorqueEnv environment\u001b[39;00m\n\u001b[32m----> \u001b[39m\u001b[32m9\u001b[39m env = gym.make(\"FurutaPendulumTorque-v0\",\n\u001b[32m     10\u001b[39m                urdf_model_path = urdf_model_path, forward_dynamics_casadi_path = forward_dynamics_casadi_path, parameters_model=parameters_model, render=\u001b[38;5;28;01mTrue\u001b[39;00m, swingup=\u001b[38;5;28;01mTrue\u001b[39;00m)\n\u001b[32m     11\u001b[39m \n\u001b[32m     12\u001b[39m \u001b[38;5;66;03m# Click on the url that appears in the output to visualize the environment in a browser\u001b[39;00m\n",
      "\u001b[32mc:\\Users\\beppe\\miniconda3\\envs\\furuta-rl\\Lib\\site-packages\\gymnasium\\envs\\registration.py\u001b[39m in \u001b[36m?\u001b[39m\u001b[34m(id, max_episode_steps, disable_env_checker, **kwargs)\u001b[39m\n\u001b[32m    731\u001b[39m             )\n\u001b[32m    732\u001b[39m \n\u001b[32m    733\u001b[39m     \u001b[38;5;28;01mtry\u001b[39;00m:\n\u001b[32m    734\u001b[39m         env = env_creator(**env_spec_kwargs)\n\u001b[32m--> \u001b[39m\u001b[32m735\u001b[39m     \u001b[38;5;28;01mexcept\u001b[39;00m TypeError \u001b[38;5;28;01mas\u001b[39;00m e:\n\u001b[32m    736\u001b[39m         if (\n\u001b[32m    737\u001b[39m             str(e).find(\u001b[33m\"got an unexpected keyword argument 'render_mode'\"\u001b[39m) >= \u001b[32m0\u001b[39m\n\u001b[32m    738\u001b[39m             \u001b[38;5;28;01mand\u001b[39;00m apply_human_rendering\n",
      "\u001b[32mc:\\Users\\beppe\\github_projects\\robotics_rl_project\\src\\envs\\NEW_furuta_torque_Q4.py\u001b[39m in \u001b[36m?\u001b[39m\u001b[34m(self, urdf_model_path, forward_dynamics_casadi_path, parameters_model, render, swingup)\u001b[39m\n\u001b[32m    101\u001b[39m     \u001b[38;5;28;01mdef\u001b[39;00m __init__(self, urdf_model_path, forward_dynamics_casadi_path, parameters_model, render=\u001b[38;5;28;01mFalse\u001b[39;00m, swingup = \u001b[38;5;28;01mFalse\u001b[39;00m):\n\u001b[32m    102\u001b[39m \n\u001b[32m--> \u001b[39m\u001b[32m103\u001b[39m         self.pendulum_sim = FurutaPendulumSimulator(urdf_model_path=urdf_model_path, \n\u001b[32m    104\u001b[39m                                                     forward_dynamics_casadi_path= forward_dynamics_casadi_path,\n\u001b[32m    105\u001b[39m                                                  render=render)\n\u001b[32m    106\u001b[39m \n",
      "\u001b[32mc:\\Users\\beppe\\github_projects\\robotics_rl_project\\src\\envs\\NEW_furuta_torque_Q4.py\u001b[39m in \u001b[36m?\u001b[39m\u001b[34m(self, urdf_model_path, forward_dynamics_casadi_path, render)\u001b[39m\n\u001b[32m     43\u001b[39m         self.viz.loadViewerModel()\n\u001b[32m     44\u001b[39m         q_init = np.array([\u001b[32m0\u001b[39m, \u001b[32m0\u001b[39m, \u001b[32m0\u001b[39m]) \u001b[38;5;66;03m# Add third joint\u001b[39;00m\n\u001b[32m     45\u001b[39m         self.viz.display(q_init)\n\u001b[32m     46\u001b[39m \n\u001b[32m---> \u001b[39m\u001b[32m47\u001b[39m         self.f_state_transition = FurutaPendulumSimulator.create_f_state_transition(forward_dynamics_casadi_path)\n\u001b[32m     48\u001b[39m \n\u001b[32m     49\u001b[39m         self.x = np.array([\u001b[32m0.0\u001b[39m, \u001b[32m0.0\u001b[39m, \u001b[32m0.0\u001b[39m, \u001b[32m0.0\u001b[39m, \u001b[32m0.0\u001b[39m, \u001b[32m0.0\u001b[39m])  \u001b[38;5;66;03m# Add third joint and its velocity\u001b[39;00m\n\u001b[32m     50\u001b[39m         self.x_hist = [self.x]\n",
      "\u001b[32mc:\\Users\\beppe\\github_projects\\robotics_rl_project\\src\\envs\\NEW_furuta_torque_Q4.py\u001b[39m in \u001b[36m?\u001b[39m\u001b[34m(forward_dynamics_casadi_path)\u001b[39m\n\u001b[32m     77\u001b[39m         dq_sym = ca.MX.sym(\u001b[33m\"dq\"\u001b[39m, \u001b[32m3\u001b[39m)\n\u001b[32m     78\u001b[39m         x_sym = ca.vertcat(q_sym, dq_sym)\n\u001b[32m     79\u001b[39m         u_sym = ca.MX.sym(\u001b[33m\"u\"\u001b[39m, \u001b[32m1\u001b[39m)  \u001b[38;5;66;03m# scalar input\u001b[39;00m\n\u001b[32m     80\u001b[39m \n\u001b[32m---> \u001b[39m\u001b[32m81\u001b[39m         forward_dynamics = ca.Function.load(forward_dynamics_casadi_path)\n\u001b[32m     82\u001b[39m         ddq_sym = forward_dynamics(q_sym, dq_sym, u_sym)\n\u001b[32m     83\u001b[39m         dx_sym = ca.vertcat(dq_sym, ddq_sym)\n\u001b[32m     84\u001b[39m         dt_sym = ca.MX.sym(\u001b[33m\"dt\"\u001b[39m)\n",
      "\u001b[32mc:\\Users\\beppe\\miniconda3\\envs\\furuta-rl\\Lib\\site-packages\\casadi\\casadi.py\u001b[39m in \u001b[36m?\u001b[39m\u001b[34m(*args)\u001b[39m\n\u001b[32m  23181\u001b[39m \n\u001b[32m  23182\u001b[39m \n\u001b[32m  23183\u001b[39m \n\u001b[32m  23184\u001b[39m         \"\"\"\n\u001b[32m> \u001b[39m\u001b[32m23185\u001b[39m         \u001b[38;5;28;01mreturn\u001b[39;00m _casadi.Function_load(*args)\n",
      "\u001b[31mRuntimeError\u001b[39m: D:\\bld\\casadi_1739119751166\\work\\casadi\\core\\serializing_stream.cpp:384: Assertion \"load_version==v\" failed:\nDeSerialization of SXFunction failed. Object written in version 2 but can only read in version 1."
     ]
    }
   ],
   "source": [
    "from src.envs.NEW_furuta_torque_Q4 import FurutaPendulumTorqueEnv\n",
    "\n",
    "gym.register(\n",
    "    id=\"FurutaPendulumTorque-v0\",\n",
    "    entry_point=FurutaPendulumTorqueEnv,\n",
    ")\n",
    "\n",
    "# Create an instance of the FurutaPendulumTorqueEnv environment\n",
    "env = gym.make(\"FurutaPendulumTorque-v0\",\n",
    "               urdf_model_path = urdf_model_path, forward_dynamics_casadi_path = forward_dynamics_casadi_path, parameters_model=parameters_model, render=True, swingup=True)\n",
    "\n",
    "# Click on the url that appears in the output to visualize the environment in a browser"
   ]
  },
  {
   "cell_type": "markdown",
   "id": "86b48a3d",
   "metadata": {},
   "source": [
    "### Loading the PPO Policy for Post-OCP Stabilization\n",
    "\n",
    "We then load the PPO policy trained to stabilize the system after the application of the new optimal control strategy. This policy was specifically developed for the extended system with two unactuated joints and leverages the improved dynamics resulting from the initial OCP trajectory. The following code initializes the simulation environment, loads the trained PPO model, and sets it to evaluation mode for execution:"
   ]
  },
  {
   "cell_type": "code",
   "execution_count": 54,
   "id": "7aa802ab",
   "metadata": {},
   "outputs": [
    {
     "name": "stderr",
     "output_type": "stream",
     "text": [
      "c:\\Users\\beppe\\miniconda3\\envs\\furuta-rl\\Lib\\site-packages\\gymnasium\\envs\\registration.py:512: DeprecationWarning: \u001b[33mWARN: The environment FurutaPendulumTorque-v0 is out of date. You should consider upgrading to version `v1`.\u001b[0m\n",
      "  logger.deprecation(\n"
     ]
    },
    {
     "name": "stdout",
     "output_type": "stream",
     "text": [
      "model name: furuta_pendulum_modified\n",
      "q: [0. 0. 0.]\n",
      "T_pin:   R =\n",
      "           1            0            0\n",
      "           0            1 -2.44929e-16\n",
      "           0  2.44929e-16            1\n",
      "  p =     0.093525 -4.73938e-17        0.313\n",
      "\n",
      "You can open the visualizer by visiting the following URL:\n",
      "http://127.0.0.1:7012/static/\n"
     ]
    },
    {
     "ename": "RuntimeError",
     "evalue": "D:\\bld\\casadi_1739119751166\\work\\casadi\\core\\serializing_stream.cpp:384: Assertion \"load_version==v\" failed:\nDeSerialization of SXFunction failed. Object written in version 2 but can only read in version 1.",
     "output_type": "error",
     "traceback": [
      "\u001b[31m---------------------------------------------------------------------------\u001b[39m",
      "\u001b[31mRuntimeError\u001b[39m                              Traceback (most recent call last)",
      "\u001b[32m~\\AppData\\Local\\Temp\\ipykernel_26260\\2958173766.py\u001b[39m in \u001b[36m?\u001b[39m\u001b[34m()\u001b[39m\n\u001b[32m      5\u001b[39m \n\u001b[32m      6\u001b[39m \u001b[38;5;66;03m# Set to False if task includes swingup\u001b[39;00m\n\u001b[32m      7\u001b[39m swingup = \u001b[38;5;28;01mTrue\u001b[39;00m\n\u001b[32m      8\u001b[39m \n\u001b[32m----> \u001b[39m\u001b[32m9\u001b[39m envs = gym.vector.SyncVectorEnv(\n\u001b[32m     10\u001b[39m         [make_env(urdf_path=urdf_path, \n\u001b[32m     11\u001b[39m                   parameters_model=parameters_model,\n\u001b[32m     12\u001b[39m                   forward_dynamics_casadi_path=forward_dynamics_casadi_path,\n",
      "\u001b[32mc:\\Users\\beppe\\miniconda3\\envs\\furuta-rl\\Lib\\site-packages\\gymnasium\\vector\\sync_vector_env.py\u001b[39m in \u001b[36m?\u001b[39m\u001b[34m(self, env_fns, copy, observation_mode, autoreset_mode)\u001b[39m\n\u001b[32m     93\u001b[39m             \u001b[38;5;28;01melse\u001b[39;00m AutoresetMode(autoreset_mode)\n\u001b[32m     94\u001b[39m         )\n\u001b[32m     95\u001b[39m \n\u001b[32m     96\u001b[39m         \u001b[38;5;66;03m# Initialise all sub-environments\u001b[39;00m\n\u001b[32m---> \u001b[39m\u001b[32m97\u001b[39m         self.envs = [env_fn() \u001b[38;5;28;01mfor\u001b[39;00m env_fn \u001b[38;5;28;01min\u001b[39;00m env_fns]\n\u001b[32m     98\u001b[39m \n\u001b[32m     99\u001b[39m         \u001b[38;5;66;03m# Define core attributes using the sub-environments\u001b[39;00m\n\u001b[32m    100\u001b[39m         \u001b[38;5;66;03m# As we support `make_vec(spec)` then we can't include a `spec = self.envs[0].spec` as this doesn't guarantee we can actual recreate the vector env.\u001b[39;00m\n",
      "\u001b[32mc:\\Users\\beppe\\github_projects\\robotics_rl_project\\src\\agents\\ppo_continuous_action.py\u001b[39m in \u001b[36m?\u001b[39m\u001b[34m()\u001b[39m\n\u001b[32m    100\u001b[39m     \u001b[38;5;28;01mdef\u001b[39;00m thunk():\n\u001b[32m--> \u001b[39m\u001b[32m101\u001b[39m         env = gym.make('FurutaPendulumTorque-v0', urdf_model_path=urdf_path, \n\u001b[32m    102\u001b[39m                                       forward_dynamics_casadi_path=forward_dynamics_casadi_path,\n\u001b[32m    103\u001b[39m                                       parameters_model=parameters_model,\n\u001b[32m    104\u001b[39m                                       render=render, swingup=swingup)\n",
      "\u001b[32mc:\\Users\\beppe\\miniconda3\\envs\\furuta-rl\\Lib\\site-packages\\gymnasium\\envs\\registration.py\u001b[39m in \u001b[36m?\u001b[39m\u001b[34m(id, max_episode_steps, disable_env_checker, **kwargs)\u001b[39m\n\u001b[32m    731\u001b[39m             )\n\u001b[32m    732\u001b[39m \n\u001b[32m    733\u001b[39m     \u001b[38;5;28;01mtry\u001b[39;00m:\n\u001b[32m    734\u001b[39m         env = env_creator(**env_spec_kwargs)\n\u001b[32m--> \u001b[39m\u001b[32m735\u001b[39m     \u001b[38;5;28;01mexcept\u001b[39;00m TypeError \u001b[38;5;28;01mas\u001b[39;00m e:\n\u001b[32m    736\u001b[39m         if (\n\u001b[32m    737\u001b[39m             str(e).find(\u001b[33m\"got an unexpected keyword argument 'render_mode'\"\u001b[39m) >= \u001b[32m0\u001b[39m\n\u001b[32m    738\u001b[39m             \u001b[38;5;28;01mand\u001b[39;00m apply_human_rendering\n",
      "\u001b[32mc:\\Users\\beppe\\github_projects\\robotics_rl_project\\src\\envs\\NEW_furuta_torque_Q4.py\u001b[39m in \u001b[36m?\u001b[39m\u001b[34m(self, urdf_model_path, forward_dynamics_casadi_path, parameters_model, render, swingup)\u001b[39m\n\u001b[32m    101\u001b[39m     \u001b[38;5;28;01mdef\u001b[39;00m __init__(self, urdf_model_path, forward_dynamics_casadi_path, parameters_model, render=\u001b[38;5;28;01mFalse\u001b[39;00m, swingup = \u001b[38;5;28;01mFalse\u001b[39;00m):\n\u001b[32m    102\u001b[39m \n\u001b[32m--> \u001b[39m\u001b[32m103\u001b[39m         self.pendulum_sim = FurutaPendulumSimulator(urdf_model_path=urdf_model_path, \n\u001b[32m    104\u001b[39m                                                     forward_dynamics_casadi_path= forward_dynamics_casadi_path,\n\u001b[32m    105\u001b[39m                                                  render=render)\n\u001b[32m    106\u001b[39m \n",
      "\u001b[32mc:\\Users\\beppe\\github_projects\\robotics_rl_project\\src\\envs\\NEW_furuta_torque_Q4.py\u001b[39m in \u001b[36m?\u001b[39m\u001b[34m(self, urdf_model_path, forward_dynamics_casadi_path, render)\u001b[39m\n\u001b[32m     43\u001b[39m         self.viz.loadViewerModel()\n\u001b[32m     44\u001b[39m         q_init = np.array([\u001b[32m0\u001b[39m, \u001b[32m0\u001b[39m, \u001b[32m0\u001b[39m]) \u001b[38;5;66;03m# Add third joint\u001b[39;00m\n\u001b[32m     45\u001b[39m         self.viz.display(q_init)\n\u001b[32m     46\u001b[39m \n\u001b[32m---> \u001b[39m\u001b[32m47\u001b[39m         self.f_state_transition = FurutaPendulumSimulator.create_f_state_transition(forward_dynamics_casadi_path)\n\u001b[32m     48\u001b[39m \n\u001b[32m     49\u001b[39m         self.x = np.array([\u001b[32m0.0\u001b[39m, \u001b[32m0.0\u001b[39m, \u001b[32m0.0\u001b[39m, \u001b[32m0.0\u001b[39m, \u001b[32m0.0\u001b[39m, \u001b[32m0.0\u001b[39m])  \u001b[38;5;66;03m# Add third joint and its velocity\u001b[39;00m\n\u001b[32m     50\u001b[39m         self.x_hist = [self.x]\n",
      "\u001b[32mc:\\Users\\beppe\\github_projects\\robotics_rl_project\\src\\envs\\NEW_furuta_torque_Q4.py\u001b[39m in \u001b[36m?\u001b[39m\u001b[34m(forward_dynamics_casadi_path)\u001b[39m\n\u001b[32m     77\u001b[39m         dq_sym = ca.MX.sym(\u001b[33m\"dq\"\u001b[39m, \u001b[32m3\u001b[39m)\n\u001b[32m     78\u001b[39m         x_sym = ca.vertcat(q_sym, dq_sym)\n\u001b[32m     79\u001b[39m         u_sym = ca.MX.sym(\u001b[33m\"u\"\u001b[39m, \u001b[32m1\u001b[39m)  \u001b[38;5;66;03m# scalar input\u001b[39;00m\n\u001b[32m     80\u001b[39m \n\u001b[32m---> \u001b[39m\u001b[32m81\u001b[39m         forward_dynamics = ca.Function.load(forward_dynamics_casadi_path)\n\u001b[32m     82\u001b[39m         ddq_sym = forward_dynamics(q_sym, dq_sym, u_sym)\n\u001b[32m     83\u001b[39m         dx_sym = ca.vertcat(dq_sym, ddq_sym)\n\u001b[32m     84\u001b[39m         dt_sym = ca.MX.sym(\u001b[33m\"dt\"\u001b[39m)\n",
      "\u001b[32mc:\\Users\\beppe\\miniconda3\\envs\\furuta-rl\\Lib\\site-packages\\casadi\\casadi.py\u001b[39m in \u001b[36m?\u001b[39m\u001b[34m(*args)\u001b[39m\n\u001b[32m  23181\u001b[39m \n\u001b[32m  23182\u001b[39m \n\u001b[32m  23183\u001b[39m \n\u001b[32m  23184\u001b[39m         \"\"\"\n\u001b[32m> \u001b[39m\u001b[32m23185\u001b[39m         \u001b[38;5;28;01mreturn\u001b[39;00m _casadi.Function_load(*args)\n",
      "\u001b[31mRuntimeError\u001b[39m: D:\\bld\\casadi_1739119751166\\work\\casadi\\core\\serializing_stream.cpp:384: Assertion \"load_version==v\" failed:\nDeSerialization of SXFunction failed. Object written in version 2 but can only read in version 1."
     ]
    }
   ],
   "source": [
    "import torch\n",
    "from src.agents.ppo_continuous_action import Agent, make_env\n",
    "\n",
    "saved_model_path = 'data/furuta_pendulum_tensorboard/furutaTorque_Q4__NEW_ppo_continuous_action_Q4__42__1747754137/NEW_ppo_continuous_action_Q4.cleanrl_model' # no swingup\n",
    "\n",
    "# Set to False if task includes swingup\n",
    "swingup = True\n",
    "\n",
    "envs = gym.vector.SyncVectorEnv(\n",
    "        [make_env(urdf_path=urdf_path, \n",
    "                  parameters_model=parameters_model, \n",
    "                  forward_dynamics_casadi_path=forward_dynamics_casadi_path,\n",
    "                  render=True, swingup=swingup) for _ in range(1)]\n",
    "    )\n",
    "\n",
    "model = Agent(envs=envs)\n",
    "\n",
    "model.load_state_dict(torch.load(saved_model_path, map_location=\"cpu\"))\n",
    "model.eval()\n",
    "# do not use the link printed below, use the one printed above in the previous code module"
   ]
  },
  {
   "cell_type": "markdown",
   "id": "22f74f51",
   "metadata": {},
   "source": [
    "### Executing the PPO Policy After OCP Initialization\n",
    "\n",
    "Running the following code allows for the visualization of the PPO policy in action, following the initial control sequence provided by the OCP. This setup demonstrates how the learned policy takes over to stabilize the system after the optimal control strategy has brought it close to the desired state.\n"
   ]
  },
  {
   "cell_type": "code",
   "execution_count": null,
   "id": "5eba76c2",
   "metadata": {},
   "outputs": [
    {
     "name": "stdout",
     "output_type": "stream",
     "text": [
      "Switching to PPO agent at step 91\n",
      "PPO agent terminated episode.\n"
     ]
    }
   ],
   "source": [
    "# Step 1: Reset and start with motion planner\n",
    "obs, _ = env.reset()\n",
    "obs = torch.tensor(obs, dtype=torch.float32).unsqueeze(0)  # For PPO agent later\n",
    "\n",
    "# Step 2: Apply OCP torques first\n",
    "handover_step = -1\n",
    "for i in range(len(torque_command)):\n",
    "    u_actual = torque_command[i, 0]\n",
    "    u_norm = u_actual / parameters_model[\"max_torque_joint0\"]\n",
    "\n",
    "    obs_np, reward, done, truncated, info = env.step([u_norm])\n",
    "    obs = torch.tensor(obs_np, dtype=torch.float32).unsqueeze(0)\n",
    "\n",
    "    if truncated or handover_step > len(time_grid) - 1:\n",
    "        print(f\"OCP terminated at step {i}\")\n",
    "        break\n",
    "\n",
    "    handover_step = i\n",
    "\n",
    "# Step 3: Switch to learned PPO model\n",
    "print(f\"Switching to PPO agent at step {handover_step + 1}\")\n",
    "\n",
    "while True:\n",
    "    with torch.no_grad():\n",
    "        action, _, _, _ = model.get_action_and_value(obs, deterministic=True)\n",
    "\n",
    "    obs_np, reward, done, truncated, info = env.step(action.cpu().numpy()[0])\n",
    "    obs = torch.tensor(obs_np, dtype=torch.float32).unsqueeze(0)\n",
    "\n",
    "    if done or truncated:\n",
    "        print(\"PPO agent terminated episode.\")\n",
    "        break"
   ]
  }
 ],
 "metadata": {
  "kernelspec": {
   "display_name": "furuta-rl",
   "language": "python",
   "name": "python3"
  },
  "language_info": {
   "codemirror_mode": {
    "name": "ipython",
    "version": 3
   },
   "file_extension": ".py",
   "mimetype": "text/x-python",
   "name": "python",
   "nbconvert_exporter": "python",
   "pygments_lexer": "ipython3",
   "version": "3.13.7"
  }
 },
 "nbformat": 4,
 "nbformat_minor": 5
}
